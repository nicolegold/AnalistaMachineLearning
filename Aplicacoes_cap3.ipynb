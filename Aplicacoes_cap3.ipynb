{
  "nbformat": 4,
  "nbformat_minor": 0,
  "metadata": {
    "colab": {
      "name": "Aplicacoes_cap3.ipynb",
      "provenance": [],
      "collapsed_sections": [],
      "include_colab_link": true
    },
    "kernelspec": {
      "name": "python3",
      "display_name": "Python 3"
    }
  },
  "cells": [
    {
      "cell_type": "markdown",
      "metadata": {
        "id": "view-in-github",
        "colab_type": "text"
      },
      "source": [
        "<a href=\"https://colab.research.google.com/github/nicolegold/AnalistaMachineLearning/blob/master/Aplicacoes_cap3.ipynb\" target=\"_parent\"><img src=\"https://colab.research.google.com/assets/colab-badge.svg\" alt=\"Open In Colab\"/></a>"
      ]
    },
    {
      "cell_type": "code",
      "metadata": {
        "id": "oyJEBfHgniQu",
        "colab_type": "code",
        "colab": {}
      },
      "source": [
        "#Colab para o final do cap 3 de MPT"
      ],
      "execution_count": 0,
      "outputs": []
    },
    {
      "cell_type": "code",
      "metadata": {
        "id": "U_w-QOwinqUI",
        "colab_type": "code",
        "colab": {}
      },
      "source": [
        "#importando as bibliotecas\n",
        "import pandas as pd  #bibioteca responsável para o tratamento e limpeza dos dados\n",
        "import numpy as np #biblioteca utilizada para o tratamento eficiente de dados numéricos\n",
        "import datetime  #biblioteca utilizada para trabalhar com datas"
      ],
      "execution_count": 0,
      "outputs": []
    },
    {
      "cell_type": "code",
      "metadata": {
        "id": "Z5swjo58oB0w",
        "colab_type": "code",
        "outputId": "11a4e7bf-f068-4b7c-c98a-0dc014db5de0",
        "colab": {
          "resources": {
            "http://localhost:8080/nbextensions/google.colab/files.js": {
              "data": "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",
              "ok": true,
              "headers": [
                [
                  "content-type",
                  "application/javascript"
                ]
              ],
              "status": 200,
              "status_text": ""
            }
          },
          "base_uri": "https://localhost:8080/",
          "height": 76
        }
      },
      "source": [
        "#importando os dados para o google colab\n",
        "from google.colab import files\n",
        "uploaded = files.upload()"
      ],
      "execution_count": 4,
      "outputs": [
        {
          "output_type": "display_data",
          "data": {
            "text/html": [
              "\n",
              "     <input type=\"file\" id=\"files-ca07b968-099e-4d82-8773-a5484a6f0ad6\" name=\"files[]\" multiple disabled />\n",
              "     <output id=\"result-ca07b968-099e-4d82-8773-a5484a6f0ad6\">\n",
              "      Upload widget is only available when the cell has been executed in the\n",
              "      current browser session. Please rerun this cell to enable.\n",
              "      </output>\n",
              "      <script src=\"/nbextensions/google.colab/files.js\"></script> "
            ],
            "text/plain": [
              "<IPython.core.display.HTML object>"
            ]
          },
          "metadata": {
            "tags": []
          }
        },
        {
          "output_type": "stream",
          "text": [
            "Saving BL-Flickr-Images-Book.csv to BL-Flickr-Images-Book.csv\n"
          ],
          "name": "stdout"
        }
      ]
    },
    {
      "cell_type": "code",
      "metadata": {
        "id": "jsdioaz3pQoW",
        "colab_type": "code",
        "colab": {}
      },
      "source": [
        "#importando os dados como um dataframe\n",
        "df_flickr_book=pd.read_csv('BL-Flickr-Images-Book.csv')  #dataset que contém informações sobre diferentes livros existentes na \"British Library\""
      ],
      "execution_count": 0,
      "outputs": []
    },
    {
      "cell_type": "code",
      "metadata": {
        "id": "jw70TIeCpMRf",
        "colab_type": "code",
        "outputId": "ff88ba63-04bc-46f6-d9f1-6bef45c6cab9",
        "colab": {
          "base_uri": "https://localhost:8080/",
          "height": 495
        }
      },
      "source": [
        "#conhecendo o dataset \n",
        "df_flickr_book.head()"
      ],
      "execution_count": 6,
      "outputs": [
        {
          "output_type": "execute_result",
          "data": {
            "text/html": [
              "<div>\n",
              "<style scoped>\n",
              "    .dataframe tbody tr th:only-of-type {\n",
              "        vertical-align: middle;\n",
              "    }\n",
              "\n",
              "    .dataframe tbody tr th {\n",
              "        vertical-align: top;\n",
              "    }\n",
              "\n",
              "    .dataframe thead th {\n",
              "        text-align: right;\n",
              "    }\n",
              "</style>\n",
              "<table border=\"1\" class=\"dataframe\">\n",
              "  <thead>\n",
              "    <tr style=\"text-align: right;\">\n",
              "      <th></th>\n",
              "      <th>Identifier</th>\n",
              "      <th>Edition Statement</th>\n",
              "      <th>Place of Publication</th>\n",
              "      <th>Date of Publication</th>\n",
              "      <th>Publisher</th>\n",
              "      <th>Title</th>\n",
              "      <th>Author</th>\n",
              "      <th>Contributors</th>\n",
              "      <th>Corporate Author</th>\n",
              "      <th>Corporate Contributors</th>\n",
              "      <th>Former owner</th>\n",
              "      <th>Engraver</th>\n",
              "      <th>Issuance type</th>\n",
              "      <th>Flickr URL</th>\n",
              "      <th>Shelfmarks</th>\n",
              "    </tr>\n",
              "  </thead>\n",
              "  <tbody>\n",
              "    <tr>\n",
              "      <th>0</th>\n",
              "      <td>206</td>\n",
              "      <td>NaN</td>\n",
              "      <td>London</td>\n",
              "      <td>1879 [1878]</td>\n",
              "      <td>S. Tinsley &amp; Co.</td>\n",
              "      <td>Walter Forbes. [A novel.] By A. A</td>\n",
              "      <td>A. A.</td>\n",
              "      <td>FORBES, Walter.</td>\n",
              "      <td>NaN</td>\n",
              "      <td>NaN</td>\n",
              "      <td>NaN</td>\n",
              "      <td>NaN</td>\n",
              "      <td>monographic</td>\n",
              "      <td>http://www.flickr.com/photos/britishlibrary/ta...</td>\n",
              "      <td>British Library HMNTS 12641.b.30.</td>\n",
              "    </tr>\n",
              "    <tr>\n",
              "      <th>1</th>\n",
              "      <td>216</td>\n",
              "      <td>NaN</td>\n",
              "      <td>London; Virtue &amp; Yorston</td>\n",
              "      <td>1868</td>\n",
              "      <td>Virtue &amp; Co.</td>\n",
              "      <td>All for Greed. [A novel. The dedication signed...</td>\n",
              "      <td>A., A. A.</td>\n",
              "      <td>BLAZE DE BURY, Marie Pauline Rose - Baroness</td>\n",
              "      <td>NaN</td>\n",
              "      <td>NaN</td>\n",
              "      <td>NaN</td>\n",
              "      <td>NaN</td>\n",
              "      <td>monographic</td>\n",
              "      <td>http://www.flickr.com/photos/britishlibrary/ta...</td>\n",
              "      <td>British Library HMNTS 12626.cc.2.</td>\n",
              "    </tr>\n",
              "    <tr>\n",
              "      <th>2</th>\n",
              "      <td>218</td>\n",
              "      <td>NaN</td>\n",
              "      <td>London</td>\n",
              "      <td>1869</td>\n",
              "      <td>Bradbury, Evans &amp; Co.</td>\n",
              "      <td>Love the Avenger. By the author of “All for Gr...</td>\n",
              "      <td>A., A. A.</td>\n",
              "      <td>BLAZE DE BURY, Marie Pauline Rose - Baroness</td>\n",
              "      <td>NaN</td>\n",
              "      <td>NaN</td>\n",
              "      <td>NaN</td>\n",
              "      <td>NaN</td>\n",
              "      <td>monographic</td>\n",
              "      <td>http://www.flickr.com/photos/britishlibrary/ta...</td>\n",
              "      <td>British Library HMNTS 12625.dd.1.</td>\n",
              "    </tr>\n",
              "    <tr>\n",
              "      <th>3</th>\n",
              "      <td>472</td>\n",
              "      <td>NaN</td>\n",
              "      <td>London</td>\n",
              "      <td>1851</td>\n",
              "      <td>James Darling</td>\n",
              "      <td>Welsh Sketches, chiefly ecclesiastical, to the...</td>\n",
              "      <td>A., E. S.</td>\n",
              "      <td>Appleyard, Ernest Silvanus.</td>\n",
              "      <td>NaN</td>\n",
              "      <td>NaN</td>\n",
              "      <td>NaN</td>\n",
              "      <td>NaN</td>\n",
              "      <td>monographic</td>\n",
              "      <td>http://www.flickr.com/photos/britishlibrary/ta...</td>\n",
              "      <td>British Library HMNTS 10369.bbb.15.</td>\n",
              "    </tr>\n",
              "    <tr>\n",
              "      <th>4</th>\n",
              "      <td>480</td>\n",
              "      <td>A new edition, revised, etc.</td>\n",
              "      <td>London</td>\n",
              "      <td>1857</td>\n",
              "      <td>Wertheim &amp; Macintosh</td>\n",
              "      <td>[The World in which I live, and my place in it...</td>\n",
              "      <td>A., E. S.</td>\n",
              "      <td>BROOME, John Henry.</td>\n",
              "      <td>NaN</td>\n",
              "      <td>NaN</td>\n",
              "      <td>NaN</td>\n",
              "      <td>NaN</td>\n",
              "      <td>monographic</td>\n",
              "      <td>http://www.flickr.com/photos/britishlibrary/ta...</td>\n",
              "      <td>British Library HMNTS 9007.d.28.</td>\n",
              "    </tr>\n",
              "  </tbody>\n",
              "</table>\n",
              "</div>"
            ],
            "text/plain": [
              "   Identifier  ...                           Shelfmarks\n",
              "0         206  ...    British Library HMNTS 12641.b.30.\n",
              "1         216  ...    British Library HMNTS 12626.cc.2.\n",
              "2         218  ...    British Library HMNTS 12625.dd.1.\n",
              "3         472  ...  British Library HMNTS 10369.bbb.15.\n",
              "4         480  ...     British Library HMNTS 9007.d.28.\n",
              "\n",
              "[5 rows x 15 columns]"
            ]
          },
          "metadata": {
            "tags": []
          },
          "execution_count": 6
        }
      ]
    },
    {
      "cell_type": "code",
      "metadata": {
        "id": "hdPa-uCrpqP_",
        "colab_type": "code",
        "outputId": "670d3d3f-15a2-41ce-cebd-be9d9c0820aa",
        "colab": {
          "base_uri": "https://localhost:8080/",
          "height": 417
        }
      },
      "source": [
        "#obtendo informações sobre o dataset\n",
        "df_flickr_book.info()"
      ],
      "execution_count": 7,
      "outputs": [
        {
          "output_type": "stream",
          "text": [
            "<class 'pandas.core.frame.DataFrame'>\n",
            "RangeIndex: 8287 entries, 0 to 8286\n",
            "Data columns (total 15 columns):\n",
            " #   Column                  Non-Null Count  Dtype  \n",
            "---  ------                  --------------  -----  \n",
            " 0   Identifier              8287 non-null   int64  \n",
            " 1   Edition Statement       773 non-null    object \n",
            " 2   Place of Publication    8287 non-null   object \n",
            " 3   Date of Publication     8106 non-null   object \n",
            " 4   Publisher               4092 non-null   object \n",
            " 5   Title                   8287 non-null   object \n",
            " 6   Author                  6509 non-null   object \n",
            " 7   Contributors            8287 non-null   object \n",
            " 8   Corporate Author        0 non-null      float64\n",
            " 9   Corporate Contributors  0 non-null      float64\n",
            " 10  Former owner            1 non-null      object \n",
            " 11  Engraver                0 non-null      float64\n",
            " 12  Issuance type           8287 non-null   object \n",
            " 13  Flickr URL              8287 non-null   object \n",
            " 14  Shelfmarks              8287 non-null   object \n",
            "dtypes: float64(3), int64(1), object(11)\n",
            "memory usage: 971.3+ KB\n"
          ],
          "name": "stdout"
        }
      ]
    },
    {
      "cell_type": "code",
      "metadata": {
        "id": "ABF-18Hlpy2V",
        "colab_type": "code",
        "colab": {}
      },
      "source": [
        "#realizando o drop de colunas \n",
        "colunas_retiradas = ['Edition Statement', 'Corporate Author','Corporate Contributors','Former owner', 'Engraver','Contributors','Issuance type','Shelfmarks'] #lista que contém as colunas a serem retiradas\n",
        "df_flickr_book.drop(columns=colunas_retiradas,axis=1,inplace=True)"
      ],
      "execution_count": 0,
      "outputs": []
    },
    {
      "cell_type": "code",
      "metadata": {
        "id": "-1_mmImVrEp2",
        "colab_type": "code",
        "outputId": "5ed150e9-8042-45d2-99e5-86aeac67cfb3",
        "colab": {
          "base_uri": "https://localhost:8080/",
          "height": 285
        }
      },
      "source": [
        "df_flickr_book.head()"
      ],
      "execution_count": 9,
      "outputs": [
        {
          "output_type": "execute_result",
          "data": {
            "text/html": [
              "<div>\n",
              "<style scoped>\n",
              "    .dataframe tbody tr th:only-of-type {\n",
              "        vertical-align: middle;\n",
              "    }\n",
              "\n",
              "    .dataframe tbody tr th {\n",
              "        vertical-align: top;\n",
              "    }\n",
              "\n",
              "    .dataframe thead th {\n",
              "        text-align: right;\n",
              "    }\n",
              "</style>\n",
              "<table border=\"1\" class=\"dataframe\">\n",
              "  <thead>\n",
              "    <tr style=\"text-align: right;\">\n",
              "      <th></th>\n",
              "      <th>Identifier</th>\n",
              "      <th>Place of Publication</th>\n",
              "      <th>Date of Publication</th>\n",
              "      <th>Publisher</th>\n",
              "      <th>Title</th>\n",
              "      <th>Author</th>\n",
              "      <th>Flickr URL</th>\n",
              "    </tr>\n",
              "  </thead>\n",
              "  <tbody>\n",
              "    <tr>\n",
              "      <th>0</th>\n",
              "      <td>206</td>\n",
              "      <td>London</td>\n",
              "      <td>1879 [1878]</td>\n",
              "      <td>S. Tinsley &amp; Co.</td>\n",
              "      <td>Walter Forbes. [A novel.] By A. A</td>\n",
              "      <td>A. A.</td>\n",
              "      <td>http://www.flickr.com/photos/britishlibrary/ta...</td>\n",
              "    </tr>\n",
              "    <tr>\n",
              "      <th>1</th>\n",
              "      <td>216</td>\n",
              "      <td>London; Virtue &amp; Yorston</td>\n",
              "      <td>1868</td>\n",
              "      <td>Virtue &amp; Co.</td>\n",
              "      <td>All for Greed. [A novel. The dedication signed...</td>\n",
              "      <td>A., A. A.</td>\n",
              "      <td>http://www.flickr.com/photos/britishlibrary/ta...</td>\n",
              "    </tr>\n",
              "    <tr>\n",
              "      <th>2</th>\n",
              "      <td>218</td>\n",
              "      <td>London</td>\n",
              "      <td>1869</td>\n",
              "      <td>Bradbury, Evans &amp; Co.</td>\n",
              "      <td>Love the Avenger. By the author of “All for Gr...</td>\n",
              "      <td>A., A. A.</td>\n",
              "      <td>http://www.flickr.com/photos/britishlibrary/ta...</td>\n",
              "    </tr>\n",
              "    <tr>\n",
              "      <th>3</th>\n",
              "      <td>472</td>\n",
              "      <td>London</td>\n",
              "      <td>1851</td>\n",
              "      <td>James Darling</td>\n",
              "      <td>Welsh Sketches, chiefly ecclesiastical, to the...</td>\n",
              "      <td>A., E. S.</td>\n",
              "      <td>http://www.flickr.com/photos/britishlibrary/ta...</td>\n",
              "    </tr>\n",
              "    <tr>\n",
              "      <th>4</th>\n",
              "      <td>480</td>\n",
              "      <td>London</td>\n",
              "      <td>1857</td>\n",
              "      <td>Wertheim &amp; Macintosh</td>\n",
              "      <td>[The World in which I live, and my place in it...</td>\n",
              "      <td>A., E. S.</td>\n",
              "      <td>http://www.flickr.com/photos/britishlibrary/ta...</td>\n",
              "    </tr>\n",
              "  </tbody>\n",
              "</table>\n",
              "</div>"
            ],
            "text/plain": [
              "   Identifier  ...                                         Flickr URL\n",
              "0         206  ...  http://www.flickr.com/photos/britishlibrary/ta...\n",
              "1         216  ...  http://www.flickr.com/photos/britishlibrary/ta...\n",
              "2         218  ...  http://www.flickr.com/photos/britishlibrary/ta...\n",
              "3         472  ...  http://www.flickr.com/photos/britishlibrary/ta...\n",
              "4         480  ...  http://www.flickr.com/photos/britishlibrary/ta...\n",
              "\n",
              "[5 rows x 7 columns]"
            ]
          },
          "metadata": {
            "tags": []
          },
          "execution_count": 9
        }
      ]
    },
    {
      "cell_type": "code",
      "metadata": {
        "id": "COyDt0z5rMFt",
        "colab_type": "code",
        "outputId": "0d41ff65-1de4-4e7a-e12e-a3652ce34622",
        "colab": {
          "base_uri": "https://localhost:8080/",
          "height": 272
        }
      },
      "source": [
        "df_flickr_book.info()"
      ],
      "execution_count": 10,
      "outputs": [
        {
          "output_type": "stream",
          "text": [
            "<class 'pandas.core.frame.DataFrame'>\n",
            "RangeIndex: 8287 entries, 0 to 8286\n",
            "Data columns (total 7 columns):\n",
            " #   Column                Non-Null Count  Dtype \n",
            "---  ------                --------------  ----- \n",
            " 0   Identifier            8287 non-null   int64 \n",
            " 1   Place of Publication  8287 non-null   object\n",
            " 2   Date of Publication   8106 non-null   object\n",
            " 3   Publisher             4092 non-null   object\n",
            " 4   Title                 8287 non-null   object\n",
            " 5   Author                6509 non-null   object\n",
            " 6   Flickr URL            8287 non-null   object\n",
            "dtypes: int64(1), object(6)\n",
            "memory usage: 453.3+ KB\n"
          ],
          "name": "stdout"
        }
      ]
    },
    {
      "cell_type": "code",
      "metadata": {
        "id": "I8HyzieCr3Cr",
        "colab_type": "code",
        "outputId": "5f6782c5-f347-45ba-92b3-ec1d9410c786",
        "colab": {
          "base_uri": "https://localhost:8080/",
          "height": 35
        }
      },
      "source": [
        "#verificando se existe um identificador único para o dataset (chave)\n",
        "print(df_flickr_book['Identifier'].is_unique)"
      ],
      "execution_count": 11,
      "outputs": [
        {
          "output_type": "stream",
          "text": [
            "True\n"
          ],
          "name": "stdout"
        }
      ]
    },
    {
      "cell_type": "code",
      "metadata": {
        "id": "MugQimZBsNuV",
        "colab_type": "code",
        "outputId": "874807a8-b23f-4f18-bdbf-ea3ad647de2c",
        "colab": {
          "base_uri": "https://localhost:8080/",
          "height": 35
        }
      },
      "source": [
        "#contando a quantidade de valores únicos\n",
        "df_flickr_book['Identifier'].nunique()"
      ],
      "execution_count": 12,
      "outputs": [
        {
          "output_type": "execute_result",
          "data": {
            "text/plain": [
              "8287"
            ]
          },
          "metadata": {
            "tags": []
          },
          "execution_count": 12
        }
      ]
    },
    {
      "cell_type": "code",
      "metadata": {
        "id": "PvVdeO5ys8Cx",
        "colab_type": "code",
        "outputId": "3c881cc5-f1c5-4044-b273-a020d2aed39f",
        "colab": {
          "base_uri": "https://localhost:8080/",
          "height": 217
        }
      },
      "source": [
        "df_flickr_book.loc[1905:, 'Date of Publication'].head(10) #seleciona as linhas que contém a data de publicação do indice 1905 até o final do arquivo"
      ],
      "execution_count": 13,
      "outputs": [
        {
          "output_type": "execute_result",
          "data": {
            "text/plain": [
              "1905         1879\n",
              "1906         1886\n",
              "1907         1844\n",
              "1908    1861-1909\n",
              "1909         1884\n",
              "1910         1885\n",
              "1911         1834\n",
              "1912         1837\n",
              "1913         1867\n",
              "1914         1830\n",
              "Name: Date of Publication, dtype: object"
            ]
          },
          "metadata": {
            "tags": []
          },
          "execution_count": 13
        }
      ]
    },
    {
      "cell_type": "code",
      "metadata": {
        "id": "1bna2QMRtjCU",
        "colab_type": "code",
        "colab": {}
      },
      "source": [
        "#tratando os datas de publicação de cada um dos livros através das expressões regulares\n",
        "expre_regular = r'^(\\d{4})'   #define a expressão regular que deve ser utilizada para cada uma das datas de publicação (encontra o conjunto de 4 dígitos)\n",
        "extr = df_flickr_book['Date of Publication'].str.extract(expre_regular, expand=False)  #aplica o modelo de extração através da expressão regular definida"
      ],
      "execution_count": 0,
      "outputs": []
    },
    {
      "cell_type": "code",
      "metadata": {
        "id": "7HDmV04bus1e",
        "colab_type": "code",
        "outputId": "962fb706-a33a-414c-9298-b675d0fa0cc6",
        "colab": {
          "base_uri": "https://localhost:8080/",
          "height": 235
        }
      },
      "source": [
        "extr[1905:]"
      ],
      "execution_count": 15,
      "outputs": [
        {
          "output_type": "execute_result",
          "data": {
            "text/plain": [
              "1905    1879\n",
              "1906    1886\n",
              "1907    1844\n",
              "1908    1861\n",
              "1909    1884\n",
              "        ... \n",
              "8282    1838\n",
              "8283    1831\n",
              "8284     NaN\n",
              "8285    1834\n",
              "8286    1834\n",
              "Name: Date of Publication, Length: 6382, dtype: object"
            ]
          },
          "metadata": {
            "tags": []
          },
          "execution_count": 15
        }
      ]
    },
    {
      "cell_type": "code",
      "metadata": {
        "id": "65F-uWZ7sVg1",
        "colab_type": "code",
        "colab": {}
      },
      "source": [
        "#aplicando ao dataset e convertendo para numérico\n",
        "df_flickr_book['Date of Publication']=pd.to_numeric(extr)"
      ],
      "execution_count": 0,
      "outputs": []
    },
    {
      "cell_type": "code",
      "metadata": {
        "id": "b2X1IxGfwv80",
        "colab_type": "code",
        "outputId": "ae6de69e-f41a-48de-9050-24fae7350833",
        "colab": {
          "base_uri": "https://localhost:8080/",
          "height": 272
        }
      },
      "source": [
        "#verificando o dataset\n",
        "df_flickr_book.info()"
      ],
      "execution_count": 17,
      "outputs": [
        {
          "output_type": "stream",
          "text": [
            "<class 'pandas.core.frame.DataFrame'>\n",
            "RangeIndex: 8287 entries, 0 to 8286\n",
            "Data columns (total 7 columns):\n",
            " #   Column                Non-Null Count  Dtype  \n",
            "---  ------                --------------  -----  \n",
            " 0   Identifier            8287 non-null   int64  \n",
            " 1   Place of Publication  8287 non-null   object \n",
            " 2   Date of Publication   7316 non-null   float64\n",
            " 3   Publisher             4092 non-null   object \n",
            " 4   Title                 8287 non-null   object \n",
            " 5   Author                6509 non-null   object \n",
            " 6   Flickr URL            8287 non-null   object \n",
            "dtypes: float64(1), int64(1), object(5)\n",
            "memory usage: 453.3+ KB\n"
          ],
          "name": "stdout"
        }
      ]
    },
    {
      "cell_type": "code",
      "metadata": {
        "id": "ie7LZt9Pw7mE",
        "colab_type": "code",
        "outputId": "3a4061f3-44e5-498f-e89a-b6f782d17c34",
        "colab": {
          "base_uri": "https://localhost:8080/",
          "height": 35
        }
      },
      "source": [
        "#contando a quantidade de valores nulos existentes\n",
        "df_flickr_book['Date of Publication'].isnull().sum()  # o isnull() retorna uma serie com a resposta para a pergunta (isNull?)"
      ],
      "execution_count": 18,
      "outputs": [
        {
          "output_type": "execute_result",
          "data": {
            "text/plain": [
              "971"
            ]
          },
          "metadata": {
            "tags": []
          },
          "execution_count": 18
        }
      ]
    },
    {
      "cell_type": "code",
      "metadata": {
        "id": "bapNHeVNxRPL",
        "colab_type": "code",
        "outputId": "93375fd8-5c8d-4fa1-8ba5-b964d04fb00c",
        "colab": {
          "base_uri": "https://localhost:8080/",
          "height": 235
        }
      },
      "source": [
        "df_flickr_book['Date of Publication'].isnull()"
      ],
      "execution_count": 19,
      "outputs": [
        {
          "output_type": "execute_result",
          "data": {
            "text/plain": [
              "0       False\n",
              "1       False\n",
              "2       False\n",
              "3       False\n",
              "4       False\n",
              "        ...  \n",
              "8282    False\n",
              "8283    False\n",
              "8284     True\n",
              "8285    False\n",
              "8286    False\n",
              "Name: Date of Publication, Length: 8287, dtype: bool"
            ]
          },
          "metadata": {
            "tags": []
          },
          "execution_count": 19
        }
      ]
    },
    {
      "cell_type": "code",
      "metadata": {
        "id": "L6qJ1Rg_qnYj",
        "colab_type": "code",
        "colab": {}
      },
      "source": [
        "df_flickr_book.dropna(subset=['Date of Publication'],inplace=True)  #elimina as linhas que possuem valores nulos\n",
        "df_flickr_book['Date of Publication']=df_flickr_book['Date of Publication'].astype(int)  #transforma os float em int"
      ],
      "execution_count": 0,
      "outputs": []
    },
    {
      "cell_type": "code",
      "metadata": {
        "id": "LUVQFYYnrWBN",
        "colab_type": "code",
        "outputId": "bd3ffa5f-b20d-435e-c64d-31918ec6a40b",
        "colab": {
          "base_uri": "https://localhost:8080/",
          "height": 272
        }
      },
      "source": [
        "df_flickr_book.info()"
      ],
      "execution_count": 21,
      "outputs": [
        {
          "output_type": "stream",
          "text": [
            "<class 'pandas.core.frame.DataFrame'>\n",
            "Int64Index: 7316 entries, 0 to 8286\n",
            "Data columns (total 7 columns):\n",
            " #   Column                Non-Null Count  Dtype \n",
            "---  ------                --------------  ----- \n",
            " 0   Identifier            7316 non-null   int64 \n",
            " 1   Place of Publication  7316 non-null   object\n",
            " 2   Date of Publication   7316 non-null   int64 \n",
            " 3   Publisher             3576 non-null   object\n",
            " 4   Title                 7316 non-null   object\n",
            " 5   Author                5782 non-null   object\n",
            " 6   Flickr URL            7316 non-null   object\n",
            "dtypes: int64(2), object(5)\n",
            "memory usage: 457.2+ KB\n"
          ],
          "name": "stdout"
        }
      ]
    },
    {
      "cell_type": "code",
      "metadata": {
        "id": "TB2ZddZCxWOe",
        "colab_type": "code",
        "outputId": "830872bb-456c-4d3a-90fd-6719ad66a312",
        "colab": {
          "base_uri": "https://localhost:8080/",
          "height": 217
        }
      },
      "source": [
        "#identificando os locais de publicação dos livros\n",
        "df_flickr_book['Place of Publication'].head(10)"
      ],
      "execution_count": 22,
      "outputs": [
        {
          "output_type": "execute_result",
          "data": {
            "text/plain": [
              "0                       London\n",
              "1     London; Virtue & Yorston\n",
              "2                       London\n",
              "3                       London\n",
              "4                       London\n",
              "5                       London\n",
              "6                       London\n",
              "8                      London]\n",
              "9                       London\n",
              "10                    Coventry\n",
              "Name: Place of Publication, dtype: object"
            ]
          },
          "metadata": {
            "tags": []
          },
          "execution_count": 22
        }
      ]
    },
    {
      "cell_type": "code",
      "metadata": {
        "id": "3hlojZ8wyDi1",
        "colab_type": "code",
        "outputId": "1ea732d0-e04b-4214-99bb-86458f7ec9ae",
        "colab": {
          "base_uri": "https://localhost:8080/",
          "height": 217
        }
      },
      "source": [
        "#identificando os locais que possuem a cidade de Londres como local de publicação\n",
        "df_flickr_book['Place of Publication'].str.contains('London').head(10)"
      ],
      "execution_count": 23,
      "outputs": [
        {
          "output_type": "execute_result",
          "data": {
            "text/plain": [
              "0      True\n",
              "1      True\n",
              "2      True\n",
              "3      True\n",
              "4      True\n",
              "5      True\n",
              "6      True\n",
              "8      True\n",
              "9      True\n",
              "10    False\n",
              "Name: Place of Publication, dtype: bool"
            ]
          },
          "metadata": {
            "tags": []
          },
          "execution_count": 23
        }
      ]
    },
    {
      "cell_type": "code",
      "metadata": {
        "id": "_upUnNk8yZsj",
        "colab_type": "code",
        "colab": {}
      },
      "source": [
        "london = df_flickr_book['Place of Publication'].str.contains('London')  #cria a serie que contém os valores True e False para a cidade de Londres\n",
        "oxford=df_flickr_book['Place of Publication'].str.contains('Oxford')  #cria a serie que contém os valores True e False para a cidade de Oxford"
      ],
      "execution_count": 0,
      "outputs": []
    },
    {
      "cell_type": "code",
      "metadata": {
        "id": "NgB0O87TzDNH",
        "colab_type": "code",
        "colab": {}
      },
      "source": [
        "df_flickr_book['Place of Publication']=np.where(london, 'London',np.where(oxford, 'Oxford',df_flickr_book['Place of Publication'].str.replace('-', ' ')))  #aplica o where para preencher cada uma das sentenças com o local correto"
      ],
      "execution_count": 0,
      "outputs": []
    },
    {
      "cell_type": "code",
      "metadata": {
        "id": "OIiqrszDz_lU",
        "colab_type": "code",
        "outputId": "569f6ec4-8c83-40da-faca-39c4f0a53e00",
        "colab": {
          "base_uri": "https://localhost:8080/",
          "height": 285
        }
      },
      "source": [
        "df_flickr_book.head()"
      ],
      "execution_count": 26,
      "outputs": [
        {
          "output_type": "execute_result",
          "data": {
            "text/html": [
              "<div>\n",
              "<style scoped>\n",
              "    .dataframe tbody tr th:only-of-type {\n",
              "        vertical-align: middle;\n",
              "    }\n",
              "\n",
              "    .dataframe tbody tr th {\n",
              "        vertical-align: top;\n",
              "    }\n",
              "\n",
              "    .dataframe thead th {\n",
              "        text-align: right;\n",
              "    }\n",
              "</style>\n",
              "<table border=\"1\" class=\"dataframe\">\n",
              "  <thead>\n",
              "    <tr style=\"text-align: right;\">\n",
              "      <th></th>\n",
              "      <th>Identifier</th>\n",
              "      <th>Place of Publication</th>\n",
              "      <th>Date of Publication</th>\n",
              "      <th>Publisher</th>\n",
              "      <th>Title</th>\n",
              "      <th>Author</th>\n",
              "      <th>Flickr URL</th>\n",
              "    </tr>\n",
              "  </thead>\n",
              "  <tbody>\n",
              "    <tr>\n",
              "      <th>0</th>\n",
              "      <td>206</td>\n",
              "      <td>London</td>\n",
              "      <td>1879</td>\n",
              "      <td>S. Tinsley &amp; Co.</td>\n",
              "      <td>Walter Forbes. [A novel.] By A. A</td>\n",
              "      <td>A. A.</td>\n",
              "      <td>http://www.flickr.com/photos/britishlibrary/ta...</td>\n",
              "    </tr>\n",
              "    <tr>\n",
              "      <th>1</th>\n",
              "      <td>216</td>\n",
              "      <td>London</td>\n",
              "      <td>1868</td>\n",
              "      <td>Virtue &amp; Co.</td>\n",
              "      <td>All for Greed. [A novel. The dedication signed...</td>\n",
              "      <td>A., A. A.</td>\n",
              "      <td>http://www.flickr.com/photos/britishlibrary/ta...</td>\n",
              "    </tr>\n",
              "    <tr>\n",
              "      <th>2</th>\n",
              "      <td>218</td>\n",
              "      <td>London</td>\n",
              "      <td>1869</td>\n",
              "      <td>Bradbury, Evans &amp; Co.</td>\n",
              "      <td>Love the Avenger. By the author of “All for Gr...</td>\n",
              "      <td>A., A. A.</td>\n",
              "      <td>http://www.flickr.com/photos/britishlibrary/ta...</td>\n",
              "    </tr>\n",
              "    <tr>\n",
              "      <th>3</th>\n",
              "      <td>472</td>\n",
              "      <td>London</td>\n",
              "      <td>1851</td>\n",
              "      <td>James Darling</td>\n",
              "      <td>Welsh Sketches, chiefly ecclesiastical, to the...</td>\n",
              "      <td>A., E. S.</td>\n",
              "      <td>http://www.flickr.com/photos/britishlibrary/ta...</td>\n",
              "    </tr>\n",
              "    <tr>\n",
              "      <th>4</th>\n",
              "      <td>480</td>\n",
              "      <td>London</td>\n",
              "      <td>1857</td>\n",
              "      <td>Wertheim &amp; Macintosh</td>\n",
              "      <td>[The World in which I live, and my place in it...</td>\n",
              "      <td>A., E. S.</td>\n",
              "      <td>http://www.flickr.com/photos/britishlibrary/ta...</td>\n",
              "    </tr>\n",
              "  </tbody>\n",
              "</table>\n",
              "</div>"
            ],
            "text/plain": [
              "   Identifier  ...                                         Flickr URL\n",
              "0         206  ...  http://www.flickr.com/photos/britishlibrary/ta...\n",
              "1         216  ...  http://www.flickr.com/photos/britishlibrary/ta...\n",
              "2         218  ...  http://www.flickr.com/photos/britishlibrary/ta...\n",
              "3         472  ...  http://www.flickr.com/photos/britishlibrary/ta...\n",
              "4         480  ...  http://www.flickr.com/photos/britishlibrary/ta...\n",
              "\n",
              "[5 rows x 7 columns]"
            ]
          },
          "metadata": {
            "tags": []
          },
          "execution_count": 26
        }
      ]
    },
    {
      "cell_type": "markdown",
      "metadata": {
        "id": "DEwmNU3-13Y9",
        "colab_type": "text"
      },
      "source": [
        "**Trabalhando Com Valores Sem Sentido**"
      ]
    },
    {
      "cell_type": "code",
      "metadata": {
        "id": "IgZSKSBbz_p2",
        "colab_type": "code",
        "outputId": "4564d0dc-8f30-463c-98f2-d8b64e56bae7",
        "colab": {
          "resources": {
            "http://localhost:8080/nbextensions/google.colab/files.js": {
              "data": "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",
              "ok": true,
              "headers": [
                [
                  "content-type",
                  "application/javascript"
                ]
              ],
              "status": 200,
              "status_text": ""
            }
          },
          "base_uri": "https://localhost:8080/",
          "height": 76
        }
      },
      "source": [
        "#importando os dados para o google colab\n",
        "from google.colab import files\n",
        "uploaded = files.upload()"
      ],
      "execution_count": 28,
      "outputs": [
        {
          "output_type": "display_data",
          "data": {
            "text/html": [
              "\n",
              "     <input type=\"file\" id=\"files-f7d72350-ca06-4ed2-915c-c0a671e13d5e\" name=\"files[]\" multiple disabled />\n",
              "     <output id=\"result-f7d72350-ca06-4ed2-915c-c0a671e13d5e\">\n",
              "      Upload widget is only available when the cell has been executed in the\n",
              "      current browser session. Please rerun this cell to enable.\n",
              "      </output>\n",
              "      <script src=\"/nbextensions/google.colab/files.js\"></script> "
            ],
            "text/plain": [
              "<IPython.core.display.HTML object>"
            ]
          },
          "metadata": {
            "tags": []
          }
        },
        {
          "output_type": "stream",
          "text": [
            "Saving pima-indians-diabetes.csv to pima-indians-diabetes.csv\n"
          ],
          "name": "stdout"
        }
      ]
    },
    {
      "cell_type": "code",
      "metadata": {
        "id": "IkeWy5KNz_t6",
        "colab_type": "code",
        "colab": {}
      },
      "source": [
        "#importando um novo dataset\n",
        "pima_dataset = pd.read_csv('pima-indians-diabetes.csv', header=None)\n",
        "pima_dataset.head()"
      ],
      "execution_count": 0,
      "outputs": []
    },
    {
      "cell_type": "markdown",
      "metadata": {
        "id": "WWDQVdgX2xmt",
        "colab_type": "text"
      },
      "source": [
        "0. Numero de vezes em que ficou grávida.\n",
        "1. Concentração de glicose no plasma.\n",
        "2. Pressão diastólica (mm Hg).\n",
        "3. Triceps skinfold thickness (mm).\n",
        "4. Insulina em jejum (mu U/ml).\n",
        "5. Índice de massa corporal (weight in kg/(height in m)^2).\n",
        "6. Diabetes pedigree function.\n",
        "7. Idade.\n",
        "8. Possui ou não diabetes (1 ou 0)."
      ]
    },
    {
      "cell_type": "code",
      "metadata": {
        "id": "NYz-DMjh2cKQ",
        "colab_type": "code",
        "colab": {}
      },
      "source": [
        "pima_dataset.info()  #encontra os tipos de valores e valores nulos"
      ],
      "execution_count": 0,
      "outputs": []
    },
    {
      "cell_type": "code",
      "metadata": {
        "id": "hZZCF0zR2ZY-",
        "colab_type": "code",
        "colab": {}
      },
      "source": [
        "print(pima_dataset.describe()) #resumo da estatística descritiva do dataset"
      ],
      "execution_count": 0,
      "outputs": []
    },
    {
      "cell_type": "code",
      "metadata": {
        "id": "wR3esLXu2mcl",
        "colab_type": "code",
        "colab": {}
      },
      "source": [
        "pima_dataset.drop(columns=[0,8],axis=1)[pima_dataset.eq(0).any(1)] #verificando onde existem valores \"estranhos iguais a 0\" - coluna 0 e 8 podem ter valores nulos"
      ],
      "execution_count": 0,
      "outputs": []
    },
    {
      "cell_type": "code",
      "metadata": {
        "id": "tOJXyZ1E2mfJ",
        "colab_type": "code",
        "colab": {}
      },
      "source": [
        "#contando a quantidade de valores nulos em cada uma das colunas que não podem\n",
        "print((pima_dataset[[1,2,3,4,5]] == 0).sum())"
      ],
      "execution_count": 0,
      "outputs": []
    },
    {
      "cell_type": "code",
      "metadata": {
        "id": "USfdEl-02miI",
        "colab_type": "code",
        "colab": {}
      },
      "source": [
        "#substituindo os valores 0 por NaN\n",
        "pima_dataset[[1,2,3,4,5]] = pima_dataset[[1,2,3,4,5]].replace(0, np.NaN)"
      ],
      "execution_count": 0,
      "outputs": []
    },
    {
      "cell_type": "code",
      "metadata": {
        "id": "kzRj0ji32mk3",
        "colab_type": "code",
        "colab": {}
      },
      "source": [
        "pima_dataset.info()"
      ],
      "execution_count": 0,
      "outputs": []
    },
    {
      "cell_type": "code",
      "metadata": {
        "id": "q2STf65e2mnu",
        "colab_type": "code",
        "colab": {}
      },
      "source": [
        "pima_dataset.isnull().sum() #mostra a quantidade de valores nulos existentes em cada uma das colunas"
      ],
      "execution_count": 0,
      "outputs": []
    },
    {
      "cell_type": "markdown",
      "metadata": {
        "id": "oB8Pn3vr58HB",
        "colab_type": "text"
      },
      "source": [
        "**Tratando os Valores Nulos**"
      ]
    },
    {
      "cell_type": "code",
      "metadata": {
        "id": "tTLWOgvQ2mql",
        "colab_type": "code",
        "colab": {}
      },
      "source": [
        "#apenas removendo as colunas que contém valores nulos\n",
        "df_remove_nan=pima_dataset.dropna()\n",
        "df_remove_nan.info()"
      ],
      "execution_count": 0,
      "outputs": []
    },
    {
      "cell_type": "code",
      "metadata": {
        "id": "3ZD30xrSwBh0",
        "colab_type": "code",
        "colab": {}
      },
      "source": [
        "df_remove_nan.head()"
      ],
      "execution_count": 0,
      "outputs": []
    },
    {
      "cell_type": "code",
      "metadata": {
        "id": "C1p6z3F39BbM",
        "colab_type": "code",
        "colab": {}
      },
      "source": [
        "pima_dataset.head()"
      ],
      "execution_count": 0,
      "outputs": []
    },
    {
      "cell_type": "code",
      "metadata": {
        "id": "nutvMTIF2mwY",
        "colab_type": "code",
        "colab": {}
      },
      "source": [
        "#identificando os outliers\n",
        "pima_dataset.boxplot([1,2,3,4,5]) #\"bolinhas' fora das caixas indicam os possíveis outliers"
      ],
      "execution_count": 0,
      "outputs": []
    },
    {
      "cell_type": "code",
      "metadata": {
        "id": "NBtcFdY-66Hz",
        "colab_type": "code",
        "colab": {}
      },
      "source": [
        "#preenchendo os valores com a média\n",
        "df_nan_media=pima_dataset.fillna(pima_dataset.mean())\n",
        "df_nan_media.info()"
      ],
      "execution_count": 0,
      "outputs": []
    },
    {
      "cell_type": "code",
      "metadata": {
        "id": "eIPWIGjz7N7C",
        "colab_type": "code",
        "colab": {}
      },
      "source": [
        "df_nan_media.head()"
      ],
      "execution_count": 0,
      "outputs": []
    },
    {
      "cell_type": "markdown",
      "metadata": {
        "id": "5z_Ow_yB76xg",
        "colab_type": "text"
      },
      "source": [
        "**Trabalhando com dados categóricos**"
      ]
    },
    {
      "cell_type": "code",
      "metadata": {
        "id": "IeReybU57N1m",
        "colab_type": "code",
        "colab": {}
      },
      "source": [
        "#importando os dados para o google colab\n",
        "from google.colab import files\n",
        "uploaded = files.upload()"
      ],
      "execution_count": 0,
      "outputs": []
    },
    {
      "cell_type": "code",
      "metadata": {
        "id": "jjuSOpJS7Nrk",
        "colab_type": "code",
        "colab": {}
      },
      "source": [
        "df_carros = pd.read_csv('imports-85.txt', sep=\",\", header=None,na_values=\"?\") #importando o dataset"
      ],
      "execution_count": 0,
      "outputs": []
    },
    {
      "cell_type": "code",
      "metadata": {
        "id": "vv9CXTSE9Q8i",
        "colab_type": "code",
        "colab": {}
      },
      "source": [
        "df_carros.head()"
      ],
      "execution_count": 0,
      "outputs": []
    },
    {
      "cell_type": "code",
      "metadata": {
        "id": "b4JaKEDY9XfV",
        "colab_type": "code",
        "colab": {}
      },
      "source": [
        "headers = {0:\"symboling\", 1:\"normalized_losses\", 2:\"make\", 3:\"fuel_type\", 4:\"aspiration\",\n",
        "           5:\"num_doors\", 6:\"body_style\", 7:\"drive_wheels\",8: \"engine_location\",\n",
        "           9:\"wheel_base\", 10:\"length\", 11:\"width\",12: \"height\", 13:\"curb_weight\",\n",
        "           14:\"engine_type\", 15:\"num_cylinders\",16: \"engine_size\", 17:\"fuel_system\",\n",
        "           18:\"bore\", 19:\"stroke\", 20:\"compression_ratio\", 21:\"horsepower\", 22:\"peak_rpm\",\n",
        "           23:\"city_mpg\", 24:\"highway_mpg\", 25:\"price\"}"
      ],
      "execution_count": 0,
      "outputs": []
    },
    {
      "cell_type": "code",
      "metadata": {
        "id": "VxDxZsZk-MVD",
        "colab_type": "code",
        "colab": {}
      },
      "source": [
        "df_carros.rename(columns=headers,inplace=True)\n",
        "df_carros.head()"
      ],
      "execution_count": 0,
      "outputs": []
    },
    {
      "cell_type": "code",
      "metadata": {
        "id": "kTK1_anQ-jOA",
        "colab_type": "code",
        "colab": {}
      },
      "source": [
        "df_carros.info()"
      ],
      "execution_count": 0,
      "outputs": []
    },
    {
      "cell_type": "code",
      "metadata": {
        "id": "AsJYNW4M_D69",
        "colab_type": "code",
        "colab": {}
      },
      "source": [
        "df_carros.dtypes.eq('object').sum() #conta a quantidade de \"object\" existente no dataset"
      ],
      "execution_count": 0,
      "outputs": []
    },
    {
      "cell_type": "code",
      "metadata": {
        "id": "hg9De_lg-rNT",
        "colab_type": "code",
        "colab": {}
      },
      "source": [
        "#selecionando apenas os dados categóricos\n",
        "df_carros_string = df_carros.select_dtypes(include=['object']).copy()#realiza uma cópia do dataset apenas para as colunas do tipo string\n",
        "df_carros_string.head()"
      ],
      "execution_count": 0,
      "outputs": []
    },
    {
      "cell_type": "code",
      "metadata": {
        "id": "Cq05mKJt_hpz",
        "colab_type": "code",
        "colab": {}
      },
      "source": [
        "df_carros_string.info()"
      ],
      "execution_count": 0,
      "outputs": []
    },
    {
      "cell_type": "code",
      "metadata": {
        "id": "EGtUY5_V_lrP",
        "colab_type": "code",
        "colab": {}
      },
      "source": [
        "df_carros_string.isnull().sum()  #encontra onde existem valores nulos"
      ],
      "execution_count": 0,
      "outputs": []
    },
    {
      "cell_type": "code",
      "metadata": {
        "id": "d_C7wvUJ_zGN",
        "colab_type": "code",
        "colab": {}
      },
      "source": [
        "df_carros_string.dropna(inplace=True) #realiza o drop para os valroes nulos\n",
        "df_carros_string.info()"
      ],
      "execution_count": 0,
      "outputs": []
    },
    {
      "cell_type": "code",
      "metadata": {
        "id": "WMNwiBDtAD-7",
        "colab_type": "code",
        "colab": {}
      },
      "source": [
        "df_carros_string[\"num_cylinders\"].value_counts()  #conta os valores para cada uma das \"classes\""
      ],
      "execution_count": 0,
      "outputs": []
    },
    {
      "cell_type": "code",
      "metadata": {
        "id": "QNXxiGU-Aesz",
        "colab_type": "code",
        "colab": {}
      },
      "source": [
        "#utilizando o dicionário e a função \"replace\" para transformar em numericos\n",
        "mapeamento_classes = {\"num_doors\":     {\"four\": 4, \"two\": 2},\n",
        "                \"num_cylinders\": {\"four\": 4, \"six\": 6, \"five\": 5, \"eight\": 8,\n",
        "                                  \"two\": 2, \"twelve\": 12, \"three\":3 }} "
      ],
      "execution_count": 0,
      "outputs": []
    },
    {
      "cell_type": "code",
      "metadata": {
        "id": "675swqePBLg8",
        "colab_type": "code",
        "colab": {}
      },
      "source": [
        "#aplicando a função replace\n",
        "df_carros_string.replace(mapeamento_classes, inplace=True)\n",
        "df_carros_string.head()"
      ],
      "execution_count": 0,
      "outputs": []
    },
    {
      "cell_type": "code",
      "metadata": {
        "id": "Gh_VdPV8BLjz",
        "colab_type": "code",
        "colab": {}
      },
      "source": [
        "#aplicando o label encoding\n",
        "df_carros_string[\"body_style\"] = df_carros_string[\"body_style\"].astype('category')  #define a coluna de 'body_style' como categórica\n",
        "df_carros_string.dtypes"
      ],
      "execution_count": 0,
      "outputs": []
    },
    {
      "cell_type": "code",
      "metadata": {
        "id": "6oDomTsJBLmO",
        "colab_type": "code",
        "colab": {}
      },
      "source": [
        "#após definir como categórica é possível realizar o procedimento de label encoding\n",
        "df_carros_string[\"body_style_cat\"] = df_carros_string[\"body_style\"].cat.codes #aplica a codificação para a coluna \"body_style\" e cria a coluna \"body_style_cat\"\n",
        "df_carros_string.head()"
      ],
      "execution_count": 0,
      "outputs": []
    },
    {
      "cell_type": "code",
      "metadata": {
        "id": "CSgcjqrGF4kb",
        "colab_type": "code",
        "colab": {}
      },
      "source": [
        "df_carros_string.info()"
      ],
      "execution_count": 0,
      "outputs": []
    },
    {
      "cell_type": "code",
      "metadata": {
        "id": "WSqdd_n4Clov",
        "colab_type": "code",
        "colab": {}
      },
      "source": [
        "#aplicando o One-Hot_encoding\n",
        "df_carros_string['drive_wheels'].unique()"
      ],
      "execution_count": 0,
      "outputs": []
    },
    {
      "cell_type": "code",
      "metadata": {
        "id": "FysRygRMCSHs",
        "colab_type": "code",
        "colab": {}
      },
      "source": [
        "pd.get_dummies(df_carros_string, columns=[\"drive_wheels\"]).head() #aplicando o hot encoding sobre os valores tração dos carros"
      ],
      "execution_count": 0,
      "outputs": []
    },
    {
      "cell_type": "code",
      "metadata": {
        "id": "MxO3PvTmBLpn",
        "colab_type": "code",
        "colab": {}
      },
      "source": [
        ""
      ],
      "execution_count": 0,
      "outputs": []
    }
  ]
}