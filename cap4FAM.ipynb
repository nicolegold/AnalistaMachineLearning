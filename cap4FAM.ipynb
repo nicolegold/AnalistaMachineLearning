{
  "nbformat": 4,
  "nbformat_minor": 0,
  "metadata": {
    "kernelspec": {
      "language": "python",
      "display_name": "Python 3",
      "name": "python3"
    },
    "language_info": {
      "pygments_lexer": "ipython3",
      "nbconvert_exporter": "python",
      "version": "3.6.4",
      "file_extension": ".py",
      "codemirror_mode": {
        "name": "ipython",
        "version": 3
      },
      "name": "python",
      "mimetype": "text/x-python"
    },
    "colab": {
      "name": "cap4FAM.ipynb",
      "provenance": [],
      "include_colab_link": true
    }
  },
  "cells": [
    {
      "cell_type": "markdown",
      "metadata": {
        "id": "view-in-github",
        "colab_type": "text"
      },
      "source": [
        "<a href=\"https://colab.research.google.com/github/nicolegold/AnalistaMachineLearning/blob/master/cap4FAM.ipynb\" target=\"_parent\"><img src=\"https://colab.research.google.com/assets/colab-badge.svg\" alt=\"Open In Colab\"/></a>"
      ]
    },
    {
      "cell_type": "code",
      "metadata": {
        "_uuid": "d629ff2d2480ee46fbb7e2d37f6b5fab8052498a",
        "_cell_guid": "79c7e3d0-c299-4dcb-8224-4455121ee9b0",
        "trusted": true,
        "id": "VvXQvf-rbjn6",
        "colab_type": "code",
        "colab": {}
      },
      "source": [
        "from sklearn import datasets #sklearn é uma das lib mais utilizadas em ML, ela contém, além dos \n",
        "                            #datasets, várias outras funções úteis para a análise de dados\n",
        "                            # essa lib será sua amiga durante toda sua carreira\n",
        "import pandas as pd  # importa a lib Pandas. Essa lib é utilizada para lidar com dataframes (TABELAS) \n",
        "                     #de forma mais amigável. \n",
        "from sklearn.model_selection import train_test_split,KFold,cross_val_score, cross_val_predict # esse método é utilizado para dividir o \n",
        "                                                    # conjunto de dados em grupos de treinamento e test\n",
        "from sklearn.svm import SVC      #importa o algoritmo svm para ser utilizado \n",
        "from sklearn import tree         # importa o algoritmo arvore de decisão\n",
        "from sklearn.linear_model import LogisticRegression #importa o algoritmo de regressão logística\n",
        "from sklearn.metrics import mean_absolute_error #utilizada para o calculo do MAE\n",
        "from sklearn.metrics import mean_squared_error #utilizada para o calculo do MSE\n",
        "from sklearn.metrics import r2_score #utilizada para o calculo do R2\n",
        "from sklearn import metrics  #utilizada para as métricas de comparação entre os métodos\n",
        "import matplotlib.pyplot as plt\n",
        "import seaborn as sns\n",
        "import numpy as np\n",
        "from sklearn.ensemble import RandomForestClassifier\n",
        "from sklearn.tree import DecisionTreeClassifier \n",
        "from sklearn.neighbors import KNeighborsClassifier\n",
        "from sklearn import svm\n"
      ],
      "execution_count": 0,
      "outputs": []
    },
    {
      "cell_type": "code",
      "metadata": {
        "trusted": true,
        "id": "jQ4qY9f4bjoE",
        "colab_type": "code",
        "colab": {}
      },
      "source": [
        "got_dataset=pd.read_csv('../input/game-of-thrones/character-predictions.csv')  #realiza a leitura do dataset"
      ],
      "execution_count": 0,
      "outputs": []
    },
    {
      "cell_type": "code",
      "metadata": {
        "trusted": true,
        "id": "oq2p4WbybjoK",
        "colab_type": "code",
        "colab": {}
      },
      "source": [
        "got_dataset.info() #conhecendo o dataset"
      ],
      "execution_count": 0,
      "outputs": []
    },
    {
      "cell_type": "code",
      "metadata": {
        "trusted": true,
        "id": "4A7seHW9bjoR",
        "colab_type": "code",
        "colab": {}
      },
      "source": [
        "got_dataset.head()  #mostrando o dataset"
      ],
      "execution_count": 0,
      "outputs": []
    },
    {
      "cell_type": "code",
      "metadata": {
        "trusted": true,
        "id": "Uijj8lrqbjoY",
        "colab_type": "code",
        "colab": {}
      },
      "source": [
        "nans = got_dataset.isna().sum() #contando a quantidade de valores nulos\n",
        "nans[nans > 0]"
      ],
      "execution_count": 0,
      "outputs": []
    },
    {
      "cell_type": "code",
      "metadata": {
        "trusted": true,
        "id": "jMLOen1Hbjoc",
        "colab_type": "code",
        "colab": {}
      },
      "source": [
        "#Tamanho do dataset\n",
        "len(got_dataset)"
      ],
      "execution_count": 0,
      "outputs": []
    },
    {
      "cell_type": "code",
      "metadata": {
        "trusted": true,
        "id": "wa-odxzhbjok",
        "colab_type": "code",
        "colab": {}
      },
      "source": [
        "# analisando os dados nulos\n",
        "print(got_dataset[\"age\"].mean())   #possível erro no nosso dataset (média negativa para a idade?)"
      ],
      "execution_count": 0,
      "outputs": []
    },
    {
      "cell_type": "code",
      "metadata": {
        "trusted": true,
        "id": "kyk_-3r9bjor",
        "colab_type": "code",
        "colab": {}
      },
      "source": [
        "# realizando uma maior análise do dataset\n",
        "print(got_dataset[\"name\"][got_dataset[\"age\"] < 0])\n",
        "print(got_dataset['age'][got_dataset['age'] < 0])"
      ],
      "execution_count": 0,
      "outputs": []
    },
    {
      "cell_type": "code",
      "metadata": {
        "trusted": true,
        "id": "37kySGs7bjoz",
        "colab_type": "code",
        "colab": {}
      },
      "source": [
        "#substituindo os valores negativos\n",
        "got_dataset.loc[1684, \"age\"] = 25.0\n",
        "got_dataset.loc[1868, \"age\"] = 0.0"
      ],
      "execution_count": 0,
      "outputs": []
    },
    {
      "cell_type": "code",
      "metadata": {
        "trusted": true,
        "id": "VGnuj_sqbjo5",
        "colab_type": "code",
        "colab": {}
      },
      "source": [
        "print(got_dataset[\"age\"].mean())   #verificando, novamente, a idade"
      ],
      "execution_count": 0,
      "outputs": []
    },
    {
      "cell_type": "code",
      "metadata": {
        "trusted": true,
        "id": "X7999EB2bjo-",
        "colab_type": "code",
        "colab": {}
      },
      "source": [
        "#trabalhando com dados nulos\n",
        "got_dataset[\"age\"].fillna(got_dataset[\"age\"].mean(), inplace=True) #substituindo os valores nulos pela média da coluna\n",
        "got_dataset[\"culture\"].fillna(\"\", inplace=True) #preenchendo os valores nulos da coluna cultura com uma string nula\n",
        "\n",
        "# preenchendo os demais valores com -1\n",
        "got_dataset.fillna(value=-1, inplace=True)"
      ],
      "execution_count": 0,
      "outputs": []
    },
    {
      "cell_type": "code",
      "metadata": {
        "trusted": true,
        "id": "HbgcF0V9bjpE",
        "colab_type": "code",
        "colab": {}
      },
      "source": [
        "#realizando o boxplot \n",
        "got_dataset.boxplot(['alive','popularity'])"
      ],
      "execution_count": 0,
      "outputs": []
    },
    {
      "cell_type": "code",
      "metadata": {
        "trusted": true,
        "id": "70BC6EwdbjpJ",
        "colab_type": "code",
        "colab": {}
      },
      "source": [
        "#analisando a \"mortalidade\" dos personagens\n",
        "import warnings\n",
        "warnings.filterwarnings('ignore')\n",
        "f,ax=plt.subplots(2,2,figsize=(17,15))\n",
        "sns.violinplot(\"isPopular\", \"isNoble\", hue=\"isAlive\", data=got_dataset ,split=True, ax=ax[0, 0])\n",
        "ax[0, 0].set_title('Noble and Popular vs Mortality')\n",
        "ax[0, 0].set_yticks(range(2))\n",
        "\n",
        "sns.violinplot(\"isPopular\", \"male\", hue=\"isAlive\", data=got_dataset ,split=True, ax=ax[0, 1])\n",
        "ax[0, 1].set_title('Male and Popular vs Mortality')\n",
        "ax[0, 1].set_yticks(range(2))\n",
        "\n",
        "sns.violinplot(\"isPopular\", \"isMarried\", hue=\"isAlive\", data=got_dataset ,split=True, ax=ax[1, 0])\n",
        "ax[1, 0].set_title('Married and Popular vs Mortality')\n",
        "ax[1, 0].set_yticks(range(2))\n",
        "\n",
        "\n",
        "sns.violinplot(\"isPopular\", \"book1\", hue=\"isAlive\", data=got_dataset ,split=True, ax=ax[1, 1])\n",
        "ax[1, 1].set_title('Book_1 and Popular vs Mortality')\n",
        "ax[1, 1].set_yticks(range(2))\n",
        "\n",
        "\n",
        "plt.show()"
      ],
      "execution_count": 0,
      "outputs": []
    },
    {
      "cell_type": "code",
      "metadata": {
        "trusted": true,
        "id": "PkhXcXrGbjpO",
        "colab_type": "code",
        "colab": {}
      },
      "source": [
        "# Retirando algumas colunas \n",
        "drop = [\"S.No\", \"pred\", \"alive\", \"plod\", \"name\", \"isAlive\", \"DateoFdeath\"]\n",
        "got_dataset.drop(drop, inplace=True, axis=1)\n",
        "\n",
        "#Salvando uma cópia do dataset para aplicar o hotencoder\n",
        "got_dataset_2 = got_dataset.copy(deep=True)"
      ],
      "execution_count": 0,
      "outputs": []
    },
    {
      "cell_type": "code",
      "metadata": {
        "trusted": true,
        "id": "cbrtKKg9bjpW",
        "colab_type": "code",
        "colab": {}
      },
      "source": [
        "# transformando os dados categóricos em one-hot-encoder\n",
        "got_dataset = pd.get_dummies(got_dataset)"
      ],
      "execution_count": 0,
      "outputs": []
    },
    {
      "cell_type": "code",
      "metadata": {
        "trusted": true,
        "id": "OMGK5mRlbjpb",
        "colab_type": "code",
        "colab": {}
      },
      "source": [
        "got_dataset.head()"
      ],
      "execution_count": 0,
      "outputs": []
    },
    {
      "cell_type": "code",
      "metadata": {
        "trusted": true,
        "id": "3VWOV2Apbjpe",
        "colab_type": "code",
        "colab": {}
      },
      "source": [
        "# Separando o dataset entre entradas e saídas\n",
        "x = got_dataset.iloc[:,1:].values\n",
        "y = got_dataset.iloc[:, 0].values"
      ],
      "execution_count": 0,
      "outputs": []
    },
    {
      "cell_type": "code",
      "metadata": {
        "trusted": true,
        "id": "-y67IWaybjpi",
        "colab_type": "code",
        "colab": {}
      },
      "source": [
        "# aplicando o modelo de validação cruzada\n",
        "# divide o dataset entre 5 diferentes grupos\n",
        "kfold = KFold(n_splits=5, shuffle=True, random_state=42)"
      ],
      "execution_count": 0,
      "outputs": []
    },
    {
      "cell_type": "code",
      "metadata": {
        "trusted": true,
        "id": "qBPTh8iYbjpr",
        "colab_type": "code",
        "colab": {}
      },
      "source": [
        "# construindo os modelos de classificação\n",
        "modelos = [LogisticRegression(solver='liblinear'), RandomForestClassifier(n_estimators=400, random_state=42), \n",
        "          DecisionTreeClassifier(random_state=42), svm.SVC(kernel='rbf', gamma='scale', random_state=42), \n",
        "          KNeighborsClassifier()]"
      ],
      "execution_count": 0,
      "outputs": []
    },
    {
      "cell_type": "code",
      "metadata": {
        "trusted": true,
        "id": "hXEqe6A-bjp3",
        "colab_type": "code",
        "colab": {}
      },
      "source": [
        "#utilizando a validação cruzada\n",
        "mean=[]\n",
        "std=[]\n",
        "for model in modelos:\n",
        "    result = cross_val_score(model, x, y, cv=kfold, scoring=\"accuracy\", n_jobs=-1)\n",
        "    mean.append(result)\n",
        "    std.append(result)"
      ],
      "execution_count": 0,
      "outputs": []
    },
    {
      "cell_type": "code",
      "metadata": {
        "trusted": true,
        "id": "ktCtk95Mbjp8",
        "colab_type": "code",
        "colab": {}
      },
      "source": [
        "classificadores=['Regressão Logística', 'Random Forest', 'Árvore de Decisão', 'SVM', 'KNN']\n",
        "\n",
        "plt.figure(figsize=(10, 10))\n",
        "for i in range(len(mean)):\n",
        "    sns.distplot(mean[i], hist=False, kde_kws={\"shade\": True})\n",
        "    \n",
        "plt.title(\"Distribuição de cada um dos classificadores\", fontsize=15)\n",
        "plt.legend(classificadores)\n",
        "plt.xlabel(\"Acurácia\", labelpad=20)\n",
        "plt.yticks([])\n",
        "\n",
        "plt.show()"
      ],
      "execution_count": 0,
      "outputs": []
    },
    {
      "cell_type": "markdown",
      "metadata": {
        "id": "358X7OsKbjqD",
        "colab_type": "text"
      },
      "source": [
        "**Realizando a previsão dos classificadores**"
      ]
    },
    {
      "cell_type": "markdown",
      "metadata": {
        "id": "F5gHmzzIbjqD",
        "colab_type": "text"
      },
      "source": [
        "** Quais algoritmos escollher?**"
      ]
    },
    {
      "cell_type": "code",
      "metadata": {
        "trusted": true,
        "id": "Z9a5NTzmbjqE",
        "colab_type": "code",
        "colab": {}
      },
      "source": [
        "# Dividindo o dataset entre treinamento 80% e teste 20%\n",
        "x_train, x_test, y_train, y_test = train_test_split(x, y, test_size=0.2, stratify=y, \n",
        "                                                    shuffle=True, random_state=42)"
      ],
      "execution_count": 0,
      "outputs": []
    },
    {
      "cell_type": "code",
      "metadata": {
        "trusted": true,
        "id": "_oD8YNpMbjqK",
        "colab_type": "code",
        "colab": {}
      },
      "source": [
        "#escolhendo o svm e a floresta randomica\n",
        "svm_clf = svm.SVC(C=0.9, gamma=0.1, kernel='rbf', probability=True, random_state=42)\n",
        "rf_clf = RandomForestClassifier(n_estimators=400, n_jobs=-1, random_state=42)\n",
        "\n",
        "# Treina os modelos\n",
        "svm_clf.fit(x_train, y_train)\n",
        "rf_clf.fit(x_train, y_train)"
      ],
      "execution_count": 0,
      "outputs": []
    },
    {
      "cell_type": "code",
      "metadata": {
        "trusted": true,
        "id": "rlsIBc-QbjqP",
        "colab_type": "code",
        "colab": {}
      },
      "source": [
        "# obtém as probabilidades previstas\n",
        "svm_prob = svm_clf.predict_proba(x_test)\n",
        "rf_prob = rf_clf.predict_proba(x_test)\n",
        "\n",
        "# Valores reais\n",
        "svm_preds = np.argmax(svm_prob, axis=1)\n",
        "rf_preds = np.argmax(rf_prob, axis=1)"
      ],
      "execution_count": 0,
      "outputs": []
    },
    {
      "cell_type": "code",
      "metadata": {
        "trusted": true,
        "id": "CMFkL8Dmbjqa",
        "colab_type": "code",
        "colab": {}
      },
      "source": [
        "#analisando os modelos \n",
        "cm = metrics.confusion_matrix(y_test, svm_preds)\n",
        "cm = cm.astype('float') / cm.sum(axis=1)[:, np.newaxis]\n",
        "cm2 = metrics.confusion_matrix(y_test, rf_preds)\n",
        "cm2 = cm2.astype('float') / cm2.sum(axis=1)[: , np.newaxis]\n",
        "\n",
        "classes = [\"Morto\", \"Vivo\"]\n",
        "f, ax = plt.subplots(1, 2, figsize=(15, 5))\n",
        "ax[0].set_title(\"SVM\", fontsize=15.)\n",
        "sns.heatmap(pd.DataFrame(cm, index=classes, columns=classes), \n",
        "            cmap='winter', annot=True, fmt='.2f', ax=ax[0]).set(xlabel=\"Previsao\", ylabel=\"Valor Real\")\n",
        "\n",
        "ax[1].set_title(\"Random Forest\", fontsize=15.)\n",
        "sns.heatmap(pd.DataFrame(cm2, index=classes, columns=classes), \n",
        "            cmap='winter', annot=True, fmt='.2f', ax=ax[1]).set(xlabel=\"Previsao\", \n",
        "                                                                ylabel=\"Valor Real\")"
      ],
      "execution_count": 0,
      "outputs": []
    }
  ]
}