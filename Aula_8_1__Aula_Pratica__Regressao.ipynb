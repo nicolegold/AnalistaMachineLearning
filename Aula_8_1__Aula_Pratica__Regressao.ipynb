{
  "nbformat": 4,
  "nbformat_minor": 0,
  "metadata": {
    "colab": {
      "name": "Aula_8_1__Aula_Pratica__Regressao.ipynb",
      "provenance": [],
      "collapsed_sections": [],
      "include_colab_link": true
    },
    "kernelspec": {
      "name": "python3",
      "display_name": "Python 3"
    }
  },
  "cells": [
    {
      "cell_type": "markdown",
      "metadata": {
        "id": "view-in-github",
        "colab_type": "text"
      },
      "source": [
        "<a href=\"https://colab.research.google.com/github/nicolegold/AnalistaMachineLearning/blob/master/Aula_8_1__Aula_Pratica__Regressao.ipynb\" target=\"_parent\"><img src=\"https://colab.research.google.com/assets/colab-badge.svg\" alt=\"Open In Colab\"/></a>"
      ]
    },
    {
      "cell_type": "code",
      "metadata": {
        "id": "vwd1aR7_WL-M"
      },
      "source": [
        "# *******************************************************\n",
        "# IGTI - Bootcamp Analista de Machine Learning\n",
        "# Módulo 3 - Seleção de Modelos de ML\n",
        "# Aula 8.1 - Aula Prática - Regressão\n",
        "# *******************************************************"
      ],
      "execution_count": 16,
      "outputs": []
    },
    {
      "cell_type": "code",
      "metadata": {
        "id": "zEkG9mekbyYz"
      },
      "source": [
        "# Importa recursos\n",
        "\n",
        "import matplotlib.pyplot as plt\n",
        "import numpy as np\n",
        "from sklearn import datasets, linear_model\n",
        "from sklearn.metrics import mean_squared_error, median_absolute_error\n",
        "from sklearn.model_selection import train_test_split"
      ],
      "execution_count": 17,
      "outputs": []
    },
    {
      "cell_type": "code",
      "metadata": {
        "id": "BviNFau0b1AL"
      },
      "source": [
        "# Carregue o dataset\n",
        "\n",
        "X, y = datasets.load_diabetes( return_X_y = True)"
      ],
      "execution_count": 18,
      "outputs": []
    },
    {
      "cell_type": "code",
      "metadata": {
        "id": "Znw9s_e2b5Jb"
      },
      "source": [
        "# Separamos um atributo para usar\n",
        "\n",
        "X = X[:, np.newaxis, 2]"
      ],
      "execution_count": 19,
      "outputs": []
    },
    {
      "cell_type": "code",
      "metadata": {
        "id": "ZKEAB7Vlb7f7"
      },
      "source": [
        "# Separe dados pra testar\n",
        "\n",
        "X_train, X_test, y_train, y_test = train_test_split( X, y, test_size = 0.20, random_state = 42)"
      ],
      "execution_count": 20,
      "outputs": []
    },
    {
      "cell_type": "code",
      "metadata": {
        "id": "DcoBF0jSb9XM"
      },
      "source": [
        "# Instancie\n",
        "\n",
        "regr = linear_model.LinearRegression()"
      ],
      "execution_count": 21,
      "outputs": []
    },
    {
      "cell_type": "code",
      "metadata": {
        "id": "vXMXTsx5b_gD",
        "colab": {
          "base_uri": "https://localhost:8080/"
        },
        "outputId": "b232ab29-8fa3-4655-8bc0-210c7e661880"
      },
      "source": [
        "# Treine o modelo\n",
        "\n",
        "regr.fit( X_train, y_train)"
      ],
      "execution_count": 22,
      "outputs": [
        {
          "output_type": "execute_result",
          "data": {
            "text/plain": [
              "LinearRegression(copy_X=True, fit_intercept=True, n_jobs=None, normalize=False)"
            ]
          },
          "metadata": {
            "tags": []
          },
          "execution_count": 22
        }
      ]
    },
    {
      "cell_type": "code",
      "metadata": {
        "id": "RbYTacZ9cBiz"
      },
      "source": [
        "# Teste o modelo treinado\n",
        "\n",
        "y_pred = regr.predict( X_test)"
      ],
      "execution_count": 23,
      "outputs": []
    },
    {
      "cell_type": "code",
      "metadata": {
        "id": "WorNrmifcDC6",
        "colab": {
          "base_uri": "https://localhost:8080/"
        },
        "outputId": "276e36b3-e121-432e-c4e3-5738fb7e3644"
      },
      "source": [
        "# Métricas de qualidade\n",
        "\n",
        "print( 'Erro médio quadrático: %.2f'\n",
        "      % mean_squared_error( y_test, y_pred))\n",
        "\n",
        "print( 'Erro mediano ablosuto: %.2f'\n",
        "      % median_absolute_error( y_test, y_pred))"
      ],
      "execution_count": 24,
      "outputs": [
        {
          "output_type": "stream",
          "text": [
            "Erro médio quadrático: 4061.83\n",
            "Erro mediano ablosuto: 43.51\n"
          ],
          "name": "stdout"
        }
      ]
    },
    {
      "cell_type": "code",
      "metadata": {
        "id": "hlzK_kekcG4D",
        "colab": {
          "base_uri": "https://localhost:8080/",
          "height": 252
        },
        "outputId": "8c703d8e-3aa1-48a4-9a0a-688cf95f544b"
      },
      "source": [
        "# Gráfico\n",
        "\n",
        "plt.scatter( X_test, y_test, color='black')\n",
        "plt.plot( X_test, y_pred, color='blue', linewidth=3)\n",
        "plt.xticks(())\n",
        "plt.yticks(())\n",
        "plt.show()\n"
      ],
      "execution_count": 25,
      "outputs": [
        {
          "output_type": "display_data",
          "data": {
            "image/png": "[encoded data removed]",
            "text/plain": [
              "<Figure size 432x288 with 1 Axes>"
            ]
          },
          "metadata": {
            "tags": []
          }
        }
      ]
    },
    {
      "cell_type": "code",
      "metadata": {
        "id": "8Mpr5RBZc6in"
      },
      "source": [
        "# *******************************************************\n",
        "# Fim\n",
        "# *******************************************************"
      ],
      "execution_count": 26,
      "outputs": []
    }
  ]
}