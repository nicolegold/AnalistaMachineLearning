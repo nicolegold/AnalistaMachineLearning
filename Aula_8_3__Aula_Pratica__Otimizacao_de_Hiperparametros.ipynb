{
  "nbformat": 4,
  "nbformat_minor": 0,
  "metadata": {
    "colab": {
      "name": "Aula_8_3__Aula_Pratica__Otimizacao_de_Hiperparametros.ipynb",
      "provenance": [],
      "collapsed_sections": [],
      "include_colab_link": true
    },
    "kernelspec": {
      "name": "python3",
      "display_name": "Python 3"
    }
  },
  "cells": [
    {
      "cell_type": "markdown",
      "metadata": {
        "id": "view-in-github",
        "colab_type": "text"
      },
      "source": [
        "<a href=\"https://colab.research.google.com/github/nicolegold/AnalistaMachineLearning/blob/master/Aula_8_3__Aula_Pratica__Otimizacao_de_Hiperparametros.ipynb\" target=\"_parent\"><img src=\"https://colab.research.google.com/assets/colab-badge.svg\" alt=\"Open In Colab\"/></a>"
      ]
    },
    {
      "cell_type": "code",
      "metadata": {
        "id": "vwd1aR7_WL-M"
      },
      "source": [
        "# *******************************************************\n",
        "# IGTI - Bootcamp Analista de Machine Learning\n",
        "# Módulo 3 - Seleção de Modelos de ML\n",
        "# Aula 8.3 - Aula Prática - Otimização de Hiperparâmetros\n",
        "# *******************************************************"
      ],
      "execution_count": 1,
      "outputs": []
    },
    {
      "cell_type": "code",
      "metadata": {
        "id": "zEkG9mekbyYz"
      },
      "source": [
        "# Carregando o dataset\n",
        "\n",
        "from sklearn.datasets import load_wine\n",
        "\n",
        "wine = load_wine()"
      ],
      "execution_count": 2,
      "outputs": []
    },
    {
      "cell_type": "code",
      "metadata": {
        "id": "TkwTqnqSskmB"
      },
      "source": [
        "# Exemplos de acesso aos dados\n",
        "\n",
        "X = wine.data[:, :] # Features de cada elemento\n",
        "y = wine.target # Classes de cada elemento"
      ],
      "execution_count": 3,
      "outputs": []
    },
    {
      "cell_type": "code",
      "metadata": {
        "id": "BviNFau0b1AL"
      },
      "source": [
        "# ------------------------------\n",
        "# É preciso treinar o classificador, e testar o seu desempenho com dados \"novos\"\n",
        "# Aqui, dividimos os dados em treino e teswte, para podermos testar nosso desempenho depois.\n",
        "\n",
        "from sklearn.model_selection import train_test_split\n",
        "\n",
        "X_train, X_test, y_train, y_test = train_test_split( X, y, test_size = 0.33, random_state = 42)\n",
        "# o uso dessa função facilita, mas não é obrigatório. Você pode dividir os seus dados manualmente."
      ],
      "execution_count": 4,
      "outputs": []
    },
    {
      "cell_type": "code",
      "metadata": {
        "id": "B5ZpAgGztKXv"
      },
      "source": [
        "# ------------------------------\n",
        "# Carregando e treinando os classificadores"
      ],
      "execution_count": 5,
      "outputs": []
    },
    {
      "cell_type": "code",
      "metadata": {
        "id": "Znw9s_e2b5Jb"
      },
      "source": [
        "# Ramdom Forest\n",
        "\n",
        "from sklearn.ensemble import RandomForestClassifier\n",
        "\n",
        "rfc = RandomForestClassifier()\n",
        "rfc.fit( X_train, y_train)\n",
        "y_pred = rfc.predict( X_test)"
      ],
      "execution_count": 6,
      "outputs": []
    },
    {
      "cell_type": "code",
      "metadata": {
        "id": "y5R18wXLtPSH"
      },
      "source": [
        "# Métricas do Ramdom Forest\n",
        "\n",
        "from sklearn.metrics import accuracy_score, recall_score, precision_score\n",
        "\n",
        "rfc_acc = round( accuracy_score( y_test, y_pred), 6) # round é para arredondar\n",
        "rfc_recall = round( recall_score( y_test, y_pred, average = 'weighted'), 6) # round é para arredondar\n",
        "rfc_precision = round( precision_score( y_test, y_pred, average = 'weighted'), 6) # round é para arredondar"
      ],
      "execution_count": 7,
      "outputs": []
    },
    {
      "cell_type": "code",
      "metadata": {
        "id": "rUluzEnjrlAc"
      },
      "source": [
        "# ------------------------------\n",
        "# KNN\n",
        "\n",
        "from sklearn.neighbors import KNeighborsClassifier\n",
        "\n",
        "knn = KNeighborsClassifier( n_neighbors = 3)\n",
        "knn.fit( X_train, y_train)\n",
        "y_pred = knn.predict( X_test)"
      ],
      "execution_count": 8,
      "outputs": []
    },
    {
      "cell_type": "code",
      "metadata": {
        "id": "Pc_vcI76tewH"
      },
      "source": [
        "# Métricas do KNN\n",
        "\n",
        "knn_acc = round( accuracy_score( y_test, y_pred), 6) # round é para arredondar\n",
        "knn_recall = round( recall_score( y_test, y_pred, average = 'weighted'), 6) # round é para arredondar\n",
        "knn_precision = round( precision_score( y_test, y_pred, average = 'weighted'), 6) # round é para arredondar"
      ],
      "execution_count": 9,
      "outputs": []
    },
    {
      "cell_type": "code",
      "metadata": {
        "id": "K69PydDXruPs",
        "colab": {
          "base_uri": "https://localhost:8080/"
        },
        "outputId": "879a790d-7594-4903-c5b0-dabc8167c363"
      },
      "source": [
        "# ------------------------------\n",
        "# Comparação\n",
        "\n",
        "print( \"KNN vs Random Forests\\n\")\n",
        "print( \"Classes: {0}\\n\".format( wine.target_names))\n",
        "print( \"Acurácia: {0} vs {1}\".format( knn_acc, rfc_acc))\n",
        "print( \"Recall: {0} vs {1}\".format( knn_recall, rfc_recall))\n",
        "print( \"Precisão: {0} vs {1}\".format( knn_precision, rfc_precision))"
      ],
      "execution_count": 10,
      "outputs": [
        {
          "output_type": "stream",
          "text": [
            "KNN vs Random Forests\n",
            "\n",
            "Classes: ['class_0' 'class_1' 'class_2']\n",
            "\n",
            "Acurácia: 0.694915 vs 1.0\n",
            "Recall: 0.694915 vs 1.0\n",
            "Precisão: 0.698231 vs 1.0\n"
          ],
          "name": "stdout"
        }
      ]
    },
    {
      "cell_type": "code",
      "metadata": {
        "id": "MCJ8Rv_FrzX3",
        "colab": {
          "base_uri": "https://localhost:8080/"
        },
        "outputId": "bdeacea9-8eee-4fc0-feca-02bfea5e9994"
      },
      "source": [
        "# ------------------------------\n",
        "# Na Validação Cruzada\n",
        "\n",
        "from sklearn.model_selection import cross_val_score\n",
        "\n",
        "cv_knn = cross_val_score( knn, X, y)\n",
        "cv_rfc = cross_val_score( rfc, X, y)\n",
        "\n",
        "print( \"\\nValidação Cruzada KNN: {}\".format( cv_knn))\n",
        "print( \"\\nValidação Cruzada RFC: {}\".format( cv_rfc))"
      ],
      "execution_count": 11,
      "outputs": [
        {
          "output_type": "stream",
          "text": [
            "\n",
            "Validação Cruzada KNN: [0.63888889 0.69444444 0.66666667 0.65714286 0.85714286]\n",
            "\n",
            "Validação Cruzada RFC: [0.94444444 0.94444444 1.         1.         1.        ]\n"
          ],
          "name": "stdout"
        }
      ]
    },
    {
      "cell_type": "code",
      "metadata": {
        "id": "jM4XFKh7y7zd",
        "colab": {
          "base_uri": "https://localhost:8080/"
        },
        "outputId": "794bd19d-aca4-4215-ad69-6cbb0e03a85d"
      },
      "source": [
        "# Verifica médias\n",
        "# RFC\n",
        "\n",
        "sum_cv_rfc = 0\n",
        "\n",
        "for cv_score in cv_rfc:\n",
        "  sum_cv_rfc = sum_cv_rfc + cv_score\n",
        "\n",
        "print(\"\\nResultado RFC: {0}\".format( sum_cv_rfc/5))"
      ],
      "execution_count": 12,
      "outputs": [
        {
          "output_type": "stream",
          "text": [
            "\n",
            "Resultado RFC: 0.9777777777777779\n"
          ],
          "name": "stdout"
        }
      ]
    },
    {
      "cell_type": "code",
      "metadata": {
        "id": "nhTfiQPO0MNW",
        "colab": {
          "base_uri": "https://localhost:8080/"
        },
        "outputId": "41ab76f6-8f51-425c-bc2f-1ef2e251bdb7"
      },
      "source": [
        "# Verifica médias\n",
        "# KNN\n",
        "\n",
        "sum_cv_knn = 0\n",
        "\n",
        "for cv_score in cv_knn:\n",
        "  sum_cv_knn = sum_cv_knn + cv_score\n",
        "\n",
        "print(\"\\nResultado KNN: {0}\".format( sum_cv_knn/5))"
      ],
      "execution_count": 13,
      "outputs": [
        {
          "output_type": "stream",
          "text": [
            "\n",
            "Resultado KNN: 0.7028571428571428\n"
          ],
          "name": "stdout"
        }
      ]
    },
    {
      "cell_type": "code",
      "metadata": {
        "id": "q_9LcosS3q6j"
      },
      "source": [
        "# ------------------------------\n",
        "# Buscando hiperparâmetros\n",
        "from sklearn.model_selection import GridSearchCV"
      ],
      "execution_count": 14,
      "outputs": []
    },
    {
      "cell_type": "code",
      "metadata": {
        "id": "MpLTrhRe3rvB",
        "colab": {
          "base_uri": "https://localhost:8080/"
        },
        "outputId": "d2d0f058-93eb-4d37-ffb4-3adc925b6b7e"
      },
      "source": [
        "# RFC\n",
        "parameters = {'min_samples_split':(2,6)}\n",
        "rfc_hps = GridSearchCV( rfc, parameters)\n",
        "rfc_hps.fit( X, y)\n",
        "print(\"Melhor valor RFC para 'min_samples_split': {0}\".format( rfc_hps.best_params_['min_samples_split']))"
      ],
      "execution_count": 15,
      "outputs": [
        {
          "output_type": "stream",
          "text": [
            "Melhor valor RFC para 'min_samples_split': 2\n"
          ],
          "name": "stdout"
        }
      ]
    },
    {
      "cell_type": "code",
      "metadata": {
        "id": "6-5W1dSO4jQi",
        "colab": {
          "base_uri": "https://localhost:8080/"
        },
        "outputId": "baa7ee30-6826-4c40-8bfa-3f9b520ee261"
      },
      "source": [
        "# KNN\n",
        "parameters = {'n_neighbors':(1,20)}\n",
        "knn_hps = GridSearchCV( knn, parameters)\n",
        "knn_hps.fit( X, y)\n",
        "print(\"Melhor valor KNN para 'n_neighbors': {0}\".format( knn_hps.best_params_['n_neighbors']))"
      ],
      "execution_count": 16,
      "outputs": [
        {
          "output_type": "stream",
          "text": [
            "Melhor valor KNN para 'n_neighbors': 1\n"
          ],
          "name": "stdout"
        }
      ]
    },
    {
      "cell_type": "code",
      "metadata": {
        "id": "8Mpr5RBZc6in"
      },
      "source": [
        "# *******************************************************\n",
        "# Fim\n",
        "# *******************************************************"
      ],
      "execution_count": 17,
      "outputs": []
    }
  ]
}