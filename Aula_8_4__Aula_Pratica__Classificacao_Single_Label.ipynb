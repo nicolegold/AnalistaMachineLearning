{
  "nbformat": 4,
  "nbformat_minor": 0,
  "metadata": {
    "colab": {
      "name": "Aula_8_4__Aula_Pratica__Classificacao_Single_Label.ipynb",
      "provenance": [],
      "collapsed_sections": [],
      "include_colab_link": true
    },
    "kernelspec": {
      "name": "python3",
      "display_name": "Python 3"
    }
  },
  "cells": [
    {
      "cell_type": "markdown",
      "metadata": {
        "id": "view-in-github",
        "colab_type": "text"
      },
      "source": [
        "<a href=\"https://colab.research.google.com/github/nicolegold/AnalistaMachineLearning/blob/master/Aula_8_4__Aula_Pratica__Classificacao_Single_Label.ipynb\" target=\"_parent\"><img src=\"https://colab.research.google.com/assets/colab-badge.svg\" alt=\"Open In Colab\"/></a>"
      ]
    },
    {
      "cell_type": "code",
      "metadata": {
        "id": "vwd1aR7_WL-M"
      },
      "source": [
        "# *******************************************************\n",
        "# IGTI - Bootcamp Analista de Machine Learning\n",
        "# Módulo 3 - Seleção de Modelos de ML\n",
        "# Aula 8.4 - Aula Prática - Classificação Single Label\n",
        "# *******************************************************"
      ],
      "execution_count": 1,
      "outputs": []
    },
    {
      "cell_type": "code",
      "metadata": {
        "id": "zEkG9mekbyYz"
      },
      "source": [
        "# Carregando o dataset\n",
        "\n",
        "from sklearn.datasets import load_wine\n",
        "\n",
        "wine = load_wine()"
      ],
      "execution_count": 2,
      "outputs": []
    },
    {
      "cell_type": "code",
      "metadata": {
        "id": "TkwTqnqSskmB"
      },
      "source": [
        "# Exemplos de acesso aos dados\n",
        "\n",
        "X = wine.data[:, :] # Features de cada elemento\n",
        "y = wine.target # Classes de cada elemento"
      ],
      "execution_count": 3,
      "outputs": []
    },
    {
      "cell_type": "code",
      "metadata": {
        "id": "BviNFau0b1AL"
      },
      "source": [
        "# ------------------------------\n",
        "# É preciso treinar o classificador, e testar o seu desempenho com dados \"novos\"\n",
        "# Aqui, dividimos os dados em treino e teswte, para podermos testar nosso desempenho depois.\n",
        "\n",
        "from sklearn.model_selection import train_test_split\n",
        "\n",
        "X_train, X_test, y_train, y_test = train_test_split( X, y, test_size = 0.33, random_state = 42)\n",
        "# o uso dessa função facilita, mas não é obrigatório. Você pode dividir os seus dados manualmente."
      ],
      "execution_count": 4,
      "outputs": []
    },
    {
      "cell_type": "code",
      "metadata": {
        "id": "B5ZpAgGztKXv"
      },
      "source": [
        "# ------------------------------\n",
        "# Carregando e treinando os classificadores"
      ],
      "execution_count": 5,
      "outputs": []
    },
    {
      "cell_type": "code",
      "metadata": {
        "id": "Znw9s_e2b5Jb"
      },
      "source": [
        "# Ramdom Forest\n",
        "\n",
        "from sklearn.ensemble import RandomForestClassifier\n",
        "\n",
        "rfc = RandomForestClassifier()\n",
        "rfc.fit( X_train, y_train)\n",
        "y_pred = rfc.predict( X_test)"
      ],
      "execution_count": 6,
      "outputs": []
    },
    {
      "cell_type": "code",
      "metadata": {
        "id": "y5R18wXLtPSH"
      },
      "source": [
        "# Métricas do Ramdom Forest\n",
        "\n",
        "from sklearn.metrics import accuracy_score, recall_score, precision_score\n",
        "\n",
        "rfc_acc = round( accuracy_score( y_test, y_pred), 6) # round é para arredondar\n",
        "rfc_recall = round( recall_score( y_test, y_pred, average = 'weighted'), 6) # round é para arredondar\n",
        "rfc_precision = round( precision_score( y_test, y_pred, average = 'weighted'), 6) # round é para arredondar"
      ],
      "execution_count": 7,
      "outputs": []
    },
    {
      "cell_type": "code",
      "metadata": {
        "id": "rUluzEnjrlAc"
      },
      "source": [
        "# ------------------------------\n",
        "# KNN\n",
        "\n",
        "from sklearn.neighbors import KNeighborsClassifier\n",
        "\n",
        "knn = KNeighborsClassifier( n_neighbors = 3)\n",
        "knn.fit( X_train, y_train)\n",
        "y_pred = knn.predict( X_test)"
      ],
      "execution_count": 8,
      "outputs": []
    },
    {
      "cell_type": "code",
      "metadata": {
        "id": "Pc_vcI76tewH"
      },
      "source": [
        "# Métricas do KNN\n",
        "\n",
        "knn_acc = round( accuracy_score( y_test, y_pred), 6) # round é para arredondar\n",
        "knn_recall = round( recall_score( y_test, y_pred, average = 'weighted'), 6) # round é para arredondar\n",
        "knn_precision = round( precision_score( y_test, y_pred, average = 'weighted'), 6) # round é para arredondar"
      ],
      "execution_count": 9,
      "outputs": []
    },
    {
      "cell_type": "code",
      "metadata": {
        "id": "K69PydDXruPs",
        "colab": {
          "base_uri": "https://localhost:8080/"
        },
        "outputId": "48b79960-2db3-4b93-fbfa-88805deb052e"
      },
      "source": [
        "# ------------------------------\n",
        "# Comparação\n",
        "\n",
        "print( \"KNN vs Random Forests\\n\")\n",
        "print( \"Classes: {0}\\n\".format( wine.target_names))\n",
        "print( \"Acurácia: {0} vs {1}\".format( knn_acc, rfc_acc))\n",
        "print( \"Recall: {0} vs {1}\".format( knn_recall, rfc_recall))\n",
        "print( \"Precisão: {0} vs {1}\".format( knn_precision, rfc_precision))"
      ],
      "execution_count": 10,
      "outputs": [
        {
          "output_type": "stream",
          "text": [
            "KNN vs Random Forests\n",
            "\n",
            "Classes: ['class_0' 'class_1' 'class_2']\n",
            "\n",
            "Acurácia: 0.694915 vs 1.0\n",
            "Recall: 0.694915 vs 1.0\n",
            "Precisão: 0.698231 vs 1.0\n"
          ],
          "name": "stdout"
        }
      ]
    },
    {
      "cell_type": "code",
      "metadata": {
        "id": "8Mpr5RBZc6in"
      },
      "source": [
        "# *******************************************************\n",
        "# Fim\n",
        "# *******************************************************"
      ],
      "execution_count": 11,
      "outputs": []
    }
  ]
}