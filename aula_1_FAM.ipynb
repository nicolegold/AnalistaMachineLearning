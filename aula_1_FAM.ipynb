{
  "nbformat": 4,
  "nbformat_minor": 0,
  "metadata": {
    "colab": {
      "name": "aula_1_FAM.ipynb",
      "provenance": [],
      "collapsed_sections": [],
      "include_colab_link": true
    },
    "kernelspec": {
      "name": "python3",
      "display_name": "Python 3"
    }
  },
  "cells": [
    {
      "cell_type": "markdown",
      "metadata": {
        "id": "view-in-github",
        "colab_type": "text"
      },
      "source": [
        "<a href=\"https://colab.research.google.com/github/nicolegold/AnalistaMachineLearning/blob/master/aula_1_FAM.ipynb\" target=\"_parent\"><img src=\"https://colab.research.google.com/assets/colab-badge.svg\" alt=\"Open In Colab\"/></a>"
      ]
    },
    {
      "cell_type": "code",
      "metadata": {
        "id": "Mfd1Q8Zlgpx2",
        "colab_type": "code",
        "colab": {}
      },
      "source": [
        "#Este programa é utilizado para o desenvolvimento do trabalho prático da disciplina FAM do bootcamp de MLE"
      ],
      "execution_count": 0,
      "outputs": []
    },
    {
      "cell_type": "code",
      "metadata": {
        "id": "XkAa6kElhAz9",
        "colab_type": "code",
        "outputId": "ccf169c7-5a3d-4843-d26e-e42d87db7770",
        "colab": {
          "base_uri": "https://localhost:8080/",
          "height": 71
        }
      },
      "source": [
        "#importando as bibliotecas\n",
        "import pandas as pd #biblioteca utilizada para o tratamento de dados via dataframes \n",
        "import numpy as np #biblioteca utilizada para o tratamento de valores numéricos (vetores e matrizes)\n",
        "import matplotlib.pyplot as plt #biblioteca utilizada para construir os gráficos\n",
        "import seaborn as sn #biblioteca utilizada para os plots mais bonitos\n",
        "from sklearn.model_selection import train_test_split #biblioteca para a divisão do dataset entre treinamento e teste"
      ],
      "execution_count": 2,
      "outputs": [
        {
          "output_type": "stream",
          "text": [
            "/usr/local/lib/python3.6/dist-packages/statsmodels/tools/_testing.py:19: FutureWarning: pandas.util.testing is deprecated. Use the functions in the public API at pandas.testing instead.\n",
            "  import pandas.util.testing as tm\n"
          ],
          "name": "stderr"
        }
      ]
    },
    {
      "cell_type": "code",
      "metadata": {
        "id": "F5QoWSBvlFph",
        "colab_type": "code",
        "outputId": "3553ad45-ba84-4e0c-a5c9-a854c63fc31f",
        "colab": {
          "resources": {
            "http://localhost:8080/nbextensions/google.colab/files.js": {
              "data": "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",
              "ok": true,
              "headers": [
                [
                  "content-type",
                  "application/javascript"
                ]
              ],
              "status": 200,
              "status_text": ""
            }
          },
          "base_uri": "https://localhost:8080/",
          "height": 74
        }
      },
      "source": [
        "from google.colab import files  #biblioteca utilizada para carregar os dados para o google colab\n",
        "uploaded = files.upload()"
      ],
      "execution_count": 3,
      "outputs": [
        {
          "output_type": "display_data",
          "data": {
            "text/html": [
              "\n",
              "     <input type=\"file\" id=\"files-c80c7df2-fbaa-426d-acee-cd13d62ba3f0\" name=\"files[]\" multiple disabled />\n",
              "     <output id=\"result-c80c7df2-fbaa-426d-acee-cd13d62ba3f0\">\n",
              "      Upload widget is only available when the cell has been executed in the\n",
              "      current browser session. Please rerun this cell to enable.\n",
              "      </output>\n",
              "      <script src=\"/nbextensions/google.colab/files.js\"></script> "
            ],
            "text/plain": [
              "<IPython.core.display.HTML object>"
            ]
          },
          "metadata": {
            "tags": []
          }
        },
        {
          "output_type": "stream",
          "text": [
            "Saving data.csv to data.csv\n"
          ],
          "name": "stdout"
        }
      ]
    },
    {
      "cell_type": "code",
      "metadata": {
        "id": "c3aot9E-li4L",
        "colab_type": "code",
        "colab": {}
      },
      "source": [
        "#realizando a leitura do arquivo (dataset)\n",
        "nome_do_arquivo=\"data.csv\"\n",
        "dataframe_envio_portos= pd.read_csv(nome_do_arquivo)"
      ],
      "execution_count": 0,
      "outputs": []
    },
    {
      "cell_type": "code",
      "metadata": {
        "id": "bKF37jCWl5SG",
        "colab_type": "code",
        "outputId": "863247d2-87c2-48f5-a86e-d6def0e15305",
        "colab": {
          "base_uri": "https://localhost:8080/",
          "height": 224
        }
      },
      "source": [
        "#apresentando as 5 primeiras linhas do dataset\n",
        "dataframe_envio_portos.head()"
      ],
      "execution_count": 5,
      "outputs": [
        {
          "output_type": "execute_result",
          "data": {
            "text/html": [
              "<div>\n",
              "<style scoped>\n",
              "    .dataframe tbody tr th:only-of-type {\n",
              "        vertical-align: middle;\n",
              "    }\n",
              "\n",
              "    .dataframe tbody tr th {\n",
              "        vertical-align: top;\n",
              "    }\n",
              "\n",
              "    .dataframe thead th {\n",
              "        text-align: right;\n",
              "    }\n",
              "</style>\n",
              "<table border=\"1\" class=\"dataframe\">\n",
              "  <thead>\n",
              "    <tr style=\"text-align: right;\">\n",
              "      <th></th>\n",
              "      <th>valid_import</th>\n",
              "      <th>item</th>\n",
              "      <th>importer_id</th>\n",
              "      <th>exporter_id</th>\n",
              "      <th>country_of_origin</th>\n",
              "      <th>declared_quantity</th>\n",
              "      <th>declared_cost</th>\n",
              "      <th>mode_of_transport</th>\n",
              "      <th>route</th>\n",
              "      <th>date_of_departure</th>\n",
              "      <th>date_of_arrival</th>\n",
              "      <th>declared_weight</th>\n",
              "      <th>actual_weight</th>\n",
              "      <th>days_in_transit</th>\n",
              "    </tr>\n",
              "  </thead>\n",
              "  <tbody>\n",
              "    <tr>\n",
              "      <th>0</th>\n",
              "      <td>True</td>\n",
              "      <td>cigar</td>\n",
              "      <td>111</td>\n",
              "      <td>222</td>\n",
              "      <td>India</td>\n",
              "      <td>129</td>\n",
              "      <td>3784.402551</td>\n",
              "      <td>sea</td>\n",
              "      <td>asia</td>\n",
              "      <td>04/25/2019</td>\n",
              "      <td>05/13/2019</td>\n",
              "      <td>1608.605135</td>\n",
              "      <td>1637.661221</td>\n",
              "      <td>18.232857</td>\n",
              "    </tr>\n",
              "    <tr>\n",
              "      <th>1</th>\n",
              "      <td>True</td>\n",
              "      <td>cigar</td>\n",
              "      <td>111</td>\n",
              "      <td>222</td>\n",
              "      <td>India</td>\n",
              "      <td>104</td>\n",
              "      <td>3081.350806</td>\n",
              "      <td>sea</td>\n",
              "      <td>america</td>\n",
              "      <td>04/22/2019</td>\n",
              "      <td>05/24/2019</td>\n",
              "      <td>831.719301</td>\n",
              "      <td>848.273419</td>\n",
              "      <td>32.436029</td>\n",
              "    </tr>\n",
              "    <tr>\n",
              "      <th>2</th>\n",
              "      <td>True</td>\n",
              "      <td>cigar</td>\n",
              "      <td>111</td>\n",
              "      <td>222</td>\n",
              "      <td>India</td>\n",
              "      <td>130</td>\n",
              "      <td>4414.125741</td>\n",
              "      <td>sea</td>\n",
              "      <td>europe</td>\n",
              "      <td>04/29/2019</td>\n",
              "      <td>05/16/2019</td>\n",
              "      <td>1527.704165</td>\n",
              "      <td>1582.063911</td>\n",
              "      <td>16.996206</td>\n",
              "    </tr>\n",
              "    <tr>\n",
              "      <th>3</th>\n",
              "      <td>True</td>\n",
              "      <td>cigar</td>\n",
              "      <td>111</td>\n",
              "      <td>222</td>\n",
              "      <td>India</td>\n",
              "      <td>143</td>\n",
              "      <td>2533.535991</td>\n",
              "      <td>sea</td>\n",
              "      <td>panama</td>\n",
              "      <td>05/05/2019</td>\n",
              "      <td>05/25/2019</td>\n",
              "      <td>1138.680563</td>\n",
              "      <td>1179.993817</td>\n",
              "      <td>19.965886</td>\n",
              "    </tr>\n",
              "    <tr>\n",
              "      <th>4</th>\n",
              "      <td>True</td>\n",
              "      <td>cigar</td>\n",
              "      <td>111</td>\n",
              "      <td>222</td>\n",
              "      <td>China</td>\n",
              "      <td>141</td>\n",
              "      <td>4396.397887</td>\n",
              "      <td>sea</td>\n",
              "      <td>asia</td>\n",
              "      <td>05/14/2019</td>\n",
              "      <td>06/05/2019</td>\n",
              "      <td>761.744581</td>\n",
              "      <td>781.735080</td>\n",
              "      <td>22.160034</td>\n",
              "    </tr>\n",
              "  </tbody>\n",
              "</table>\n",
              "</div>"
            ],
            "text/plain": [
              "   valid_import   item  ...  actual_weight  days_in_transit\n",
              "0          True  cigar  ...    1637.661221        18.232857\n",
              "1          True  cigar  ...     848.273419        32.436029\n",
              "2          True  cigar  ...    1582.063911        16.996206\n",
              "3          True  cigar  ...    1179.993817        19.965886\n",
              "4          True  cigar  ...     781.735080        22.160034\n",
              "\n",
              "[5 rows x 14 columns]"
            ]
          },
          "metadata": {
            "tags": []
          },
          "execution_count": 5
        }
      ]
    },
    {
      "cell_type": "code",
      "metadata": {
        "id": "OL2cLcK_mPBO",
        "colab_type": "code",
        "outputId": "d2829ee1-4fa3-4e38-ef84-f91b98b0e070",
        "colab": {
          "base_uri": "https://localhost:8080/",
          "height": 374
        }
      },
      "source": [
        "dataframe_envio_portos.info() #verificando os tipos de variáveis e se existem ou não valores nulos"
      ],
      "execution_count": 6,
      "outputs": [
        {
          "output_type": "stream",
          "text": [
            "<class 'pandas.core.frame.DataFrame'>\n",
            "RangeIndex: 120 entries, 0 to 119\n",
            "Data columns (total 14 columns):\n",
            " #   Column             Non-Null Count  Dtype  \n",
            "---  ------             --------------  -----  \n",
            " 0   valid_import       120 non-null    bool   \n",
            " 1   item               120 non-null    object \n",
            " 2   importer_id        120 non-null    int64  \n",
            " 3   exporter_id        120 non-null    int64  \n",
            " 4   country_of_origin  120 non-null    object \n",
            " 5   declared_quantity  120 non-null    int64  \n",
            " 6   declared_cost      120 non-null    float64\n",
            " 7   mode_of_transport  120 non-null    object \n",
            " 8   route              120 non-null    object \n",
            " 9   date_of_departure  120 non-null    object \n",
            " 10  date_of_arrival    120 non-null    object \n",
            " 11  declared_weight    120 non-null    float64\n",
            " 12  actual_weight      120 non-null    float64\n",
            " 13  days_in_transit    120 non-null    float64\n",
            "dtypes: bool(1), float64(4), int64(3), object(6)\n",
            "memory usage: 12.4+ KB\n"
          ],
          "name": "stdout"
        }
      ]
    },
    {
      "cell_type": "code",
      "metadata": {
        "id": "DQA0wD8qvaza",
        "colab_type": "code",
        "outputId": "e268e178-3080-4a84-b6d9-650b4c1b0981",
        "colab": {
          "base_uri": "https://localhost:8080/",
          "height": 272
        }
      },
      "source": [
        "dataframe_envio_portos.isnull().sum()"
      ],
      "execution_count": 7,
      "outputs": [
        {
          "output_type": "execute_result",
          "data": {
            "text/plain": [
              "valid_import         0\n",
              "item                 0\n",
              "importer_id          0\n",
              "exporter_id          0\n",
              "country_of_origin    0\n",
              "declared_quantity    0\n",
              "declared_cost        0\n",
              "mode_of_transport    0\n",
              "route                0\n",
              "date_of_departure    0\n",
              "date_of_arrival      0\n",
              "declared_weight      0\n",
              "actual_weight        0\n",
              "days_in_transit      0\n",
              "dtype: int64"
            ]
          },
          "metadata": {
            "tags": []
          },
          "execution_count": 7
        }
      ]
    },
    {
      "cell_type": "markdown",
      "metadata": {
        "id": "6H6KdP5EomAM",
        "colab_type": "text"
      },
      "source": [
        "**Existem Colunas Com Valores Nulos?**"
      ]
    },
    {
      "cell_type": "code",
      "metadata": {
        "id": "6E-2Hd7tyBXA",
        "colab_type": "code",
        "outputId": "982fff07-b2e4-4c75-e9d1-df9f5389cf2b",
        "colab": {
          "base_uri": "https://localhost:8080/",
          "height": 34
        }
      },
      "source": [
        "dataframe_envio_portos.shape"
      ],
      "execution_count": 8,
      "outputs": [
        {
          "output_type": "execute_result",
          "data": {
            "text/plain": [
              "(120, 14)"
            ]
          },
          "metadata": {
            "tags": []
          },
          "execution_count": 8
        }
      ]
    },
    {
      "cell_type": "markdown",
      "metadata": {
        "id": "mKtkghQso5X3",
        "colab_type": "text"
      },
      "source": [
        "**Quantas Instâncias e Características Existem no Dataset?**\n",
        "\n"
      ]
    },
    {
      "cell_type": "code",
      "metadata": {
        "id": "EK9PIlANo1NA",
        "colab_type": "code",
        "outputId": "7b1887f2-fb8f-4a87-e994-74d5e5b82b8e",
        "colab": {
          "base_uri": "https://localhost:8080/",
          "height": 297
        }
      },
      "source": [
        "#analisando a \"estatística\" do dataset\n",
        "dataframe_envio_portos.describe()"
      ],
      "execution_count": 9,
      "outputs": [
        {
          "output_type": "execute_result",
          "data": {
            "text/html": [
              "<div>\n",
              "<style scoped>\n",
              "    .dataframe tbody tr th:only-of-type {\n",
              "        vertical-align: middle;\n",
              "    }\n",
              "\n",
              "    .dataframe tbody tr th {\n",
              "        vertical-align: top;\n",
              "    }\n",
              "\n",
              "    .dataframe thead th {\n",
              "        text-align: right;\n",
              "    }\n",
              "</style>\n",
              "<table border=\"1\" class=\"dataframe\">\n",
              "  <thead>\n",
              "    <tr style=\"text-align: right;\">\n",
              "      <th></th>\n",
              "      <th>importer_id</th>\n",
              "      <th>exporter_id</th>\n",
              "      <th>declared_quantity</th>\n",
              "      <th>declared_cost</th>\n",
              "      <th>declared_weight</th>\n",
              "      <th>actual_weight</th>\n",
              "      <th>days_in_transit</th>\n",
              "    </tr>\n",
              "  </thead>\n",
              "  <tbody>\n",
              "    <tr>\n",
              "      <th>count</th>\n",
              "      <td>120.0</td>\n",
              "      <td>120.0</td>\n",
              "      <td>120.000000</td>\n",
              "      <td>120.000000</td>\n",
              "      <td>120.000000</td>\n",
              "      <td>120.000000</td>\n",
              "      <td>120.000000</td>\n",
              "    </tr>\n",
              "    <tr>\n",
              "      <th>mean</th>\n",
              "      <td>111.0</td>\n",
              "      <td>222.0</td>\n",
              "      <td>127.458333</td>\n",
              "      <td>6743.649881</td>\n",
              "      <td>1264.702934</td>\n",
              "      <td>1306.429806</td>\n",
              "      <td>35.424705</td>\n",
              "    </tr>\n",
              "    <tr>\n",
              "      <th>std</th>\n",
              "      <td>0.0</td>\n",
              "      <td>0.0</td>\n",
              "      <td>14.641311</td>\n",
              "      <td>2991.797050</td>\n",
              "      <td>633.149971</td>\n",
              "      <td>656.911704</td>\n",
              "      <td>26.571591</td>\n",
              "    </tr>\n",
              "    <tr>\n",
              "      <th>min</th>\n",
              "      <td>111.0</td>\n",
              "      <td>222.0</td>\n",
              "      <td>100.000000</td>\n",
              "      <td>1441.012419</td>\n",
              "      <td>18.459509</td>\n",
              "      <td>19.275241</td>\n",
              "      <td>12.410325</td>\n",
              "    </tr>\n",
              "    <tr>\n",
              "      <th>25%</th>\n",
              "      <td>111.0</td>\n",
              "      <td>222.0</td>\n",
              "      <td>115.750000</td>\n",
              "      <td>4442.903914</td>\n",
              "      <td>820.314400</td>\n",
              "      <td>841.763738</td>\n",
              "      <td>18.225625</td>\n",
              "    </tr>\n",
              "    <tr>\n",
              "      <th>50%</th>\n",
              "      <td>111.0</td>\n",
              "      <td>222.0</td>\n",
              "      <td>131.500000</td>\n",
              "      <td>6010.218745</td>\n",
              "      <td>1255.597743</td>\n",
              "      <td>1305.716419</td>\n",
              "      <td>27.044293</td>\n",
              "    </tr>\n",
              "    <tr>\n",
              "      <th>75%</th>\n",
              "      <td>111.0</td>\n",
              "      <td>222.0</td>\n",
              "      <td>139.000000</td>\n",
              "      <td>8887.095370</td>\n",
              "      <td>1711.314045</td>\n",
              "      <td>1763.681083</td>\n",
              "      <td>44.356374</td>\n",
              "    </tr>\n",
              "    <tr>\n",
              "      <th>max</th>\n",
              "      <td>111.0</td>\n",
              "      <td>222.0</td>\n",
              "      <td>149.000000</td>\n",
              "      <td>14281.325362</td>\n",
              "      <td>2806.338955</td>\n",
              "      <td>2918.681683</td>\n",
              "      <td>147.787560</td>\n",
              "    </tr>\n",
              "  </tbody>\n",
              "</table>\n",
              "</div>"
            ],
            "text/plain": [
              "       importer_id  exporter_id  ...  actual_weight  days_in_transit\n",
              "count        120.0        120.0  ...     120.000000       120.000000\n",
              "mean         111.0        222.0  ...    1306.429806        35.424705\n",
              "std            0.0          0.0  ...     656.911704        26.571591\n",
              "min          111.0        222.0  ...      19.275241        12.410325\n",
              "25%          111.0        222.0  ...     841.763738        18.225625\n",
              "50%          111.0        222.0  ...    1305.716419        27.044293\n",
              "75%          111.0        222.0  ...    1763.681083        44.356374\n",
              "max          111.0        222.0  ...    2918.681683       147.787560\n",
              "\n",
              "[8 rows x 7 columns]"
            ]
          },
          "metadata": {
            "tags": []
          },
          "execution_count": 9
        }
      ]
    },
    {
      "cell_type": "markdown",
      "metadata": {
        "id": "rMDw3h6RwmEh",
        "colab_type": "text"
      },
      "source": [
        "**Qual é o Valor Médio Para os Pesos Declarados?**"
      ]
    },
    {
      "cell_type": "code",
      "metadata": {
        "id": "dcWZdA5EwlCu",
        "colab_type": "code",
        "outputId": "c95392ff-5679-40f2-e34f-f2f1cac42207",
        "colab": {
          "base_uri": "https://localhost:8080/",
          "height": 283
        }
      },
      "source": [
        "#identificando possíveis outliers\n",
        "dataframe_envio_portos[['declared_quantity','days_in_transit']].boxplot()"
      ],
      "execution_count": 10,
      "outputs": [
        {
          "output_type": "execute_result",
          "data": {
            "text/plain": [
              "<matplotlib.axes._subplots.AxesSubplot at 0x7f70bcd23080>"
            ]
          },
          "metadata": {
            "tags": []
          },
          "execution_count": 10
        },
        {
          "output_type": "display_data",
          "data": {
            "image/png": "[encoded data removed]",
            "text/plain": [
              "<Figure size 432x288 with 1 Axes>"
            ]
          },
          "metadata": {
            "tags": [],
            "needs_background": "light"
          }
        }
      ]
    },
    {
      "cell_type": "code",
      "metadata": {
        "id": "LsSkLBtcwZ5Z",
        "colab_type": "code",
        "outputId": "6f910ef7-1a14-4951-82de-476489dc0ddd",
        "colab": {
          "base_uri": "https://localhost:8080/",
          "height": 255
        }
      },
      "source": [
        "#Z-score\n",
        "from scipy import stats\n",
        "z = np.abs(stats.zscore(dataframe_envio_portos['days_in_transit'].values))\n",
        "threshold = 3\n",
        "result=np.where(z > threshold)\n",
        "\n",
        "df_tempo_viagem_outlier=dataframe_envio_portos.iloc[result[0]]\n",
        "df_tempo_viagem_outlier"
      ],
      "execution_count": 12,
      "outputs": [
        {
          "output_type": "execute_result",
          "data": {
            "text/html": [
              "<div>\n",
              "<style scoped>\n",
              "    .dataframe tbody tr th:only-of-type {\n",
              "        vertical-align: middle;\n",
              "    }\n",
              "\n",
              "    .dataframe tbody tr th {\n",
              "        vertical-align: top;\n",
              "    }\n",
              "\n",
              "    .dataframe thead th {\n",
              "        text-align: right;\n",
              "    }\n",
              "</style>\n",
              "<table border=\"1\" class=\"dataframe\">\n",
              "  <thead>\n",
              "    <tr style=\"text-align: right;\">\n",
              "      <th></th>\n",
              "      <th>valid_import</th>\n",
              "      <th>item</th>\n",
              "      <th>importer_id</th>\n",
              "      <th>exporter_id</th>\n",
              "      <th>country_of_origin</th>\n",
              "      <th>declared_quantity</th>\n",
              "      <th>declared_cost</th>\n",
              "      <th>mode_of_transport</th>\n",
              "      <th>route</th>\n",
              "      <th>date_of_departure</th>\n",
              "      <th>date_of_arrival</th>\n",
              "      <th>declared_weight</th>\n",
              "      <th>actual_weight</th>\n",
              "      <th>days_in_transit</th>\n",
              "    </tr>\n",
              "  </thead>\n",
              "  <tbody>\n",
              "    <tr>\n",
              "      <th>61</th>\n",
              "      <td>False</td>\n",
              "      <td>cigar</td>\n",
              "      <td>111</td>\n",
              "      <td>222</td>\n",
              "      <td>India</td>\n",
              "      <td>131</td>\n",
              "      <td>1594.074225</td>\n",
              "      <td>sea</td>\n",
              "      <td>america</td>\n",
              "      <td>05/08/2019</td>\n",
              "      <td>09/01/2019</td>\n",
              "      <td>1489.554025</td>\n",
              "      <td>1551.161701</td>\n",
              "      <td>116.140911</td>\n",
              "    </tr>\n",
              "    <tr>\n",
              "      <th>73</th>\n",
              "      <td>False</td>\n",
              "      <td>cigar</td>\n",
              "      <td>111</td>\n",
              "      <td>222</td>\n",
              "      <td>France</td>\n",
              "      <td>110</td>\n",
              "      <td>8953.524711</td>\n",
              "      <td>sea</td>\n",
              "      <td>america</td>\n",
              "      <td>05/16/2019</td>\n",
              "      <td>09/13/2019</td>\n",
              "      <td>193.130429</td>\n",
              "      <td>200.966710</td>\n",
              "      <td>120.406246</td>\n",
              "    </tr>\n",
              "    <tr>\n",
              "      <th>81</th>\n",
              "      <td>False</td>\n",
              "      <td>cigar</td>\n",
              "      <td>111</td>\n",
              "      <td>222</td>\n",
              "      <td>India</td>\n",
              "      <td>134</td>\n",
              "      <td>3326.973672</td>\n",
              "      <td>sea</td>\n",
              "      <td>america</td>\n",
              "      <td>05/12/2019</td>\n",
              "      <td>10/07/2019</td>\n",
              "      <td>280.984620</td>\n",
              "      <td>289.694339</td>\n",
              "      <td>147.787560</td>\n",
              "    </tr>\n",
              "    <tr>\n",
              "      <th>85</th>\n",
              "      <td>False</td>\n",
              "      <td>cigar</td>\n",
              "      <td>111</td>\n",
              "      <td>222</td>\n",
              "      <td>China</td>\n",
              "      <td>113</td>\n",
              "      <td>5745.640896</td>\n",
              "      <td>sea</td>\n",
              "      <td>america</td>\n",
              "      <td>04/22/2019</td>\n",
              "      <td>08/28/2019</td>\n",
              "      <td>627.941986</td>\n",
              "      <td>655.845304</td>\n",
              "      <td>128.416712</td>\n",
              "    </tr>\n",
              "    <tr>\n",
              "      <th>97</th>\n",
              "      <td>False</td>\n",
              "      <td>cigar</td>\n",
              "      <td>111</td>\n",
              "      <td>222</td>\n",
              "      <td>Italy</td>\n",
              "      <td>144</td>\n",
              "      <td>10849.145863</td>\n",
              "      <td>sea</td>\n",
              "      <td>america</td>\n",
              "      <td>05/09/2019</td>\n",
              "      <td>09/09/2019</td>\n",
              "      <td>291.849891</td>\n",
              "      <td>303.328673</td>\n",
              "      <td>123.277846</td>\n",
              "    </tr>\n",
              "    <tr>\n",
              "      <th>105</th>\n",
              "      <td>False</td>\n",
              "      <td>cigar</td>\n",
              "      <td>111</td>\n",
              "      <td>222</td>\n",
              "      <td>China</td>\n",
              "      <td>139</td>\n",
              "      <td>4174.018265</td>\n",
              "      <td>sea</td>\n",
              "      <td>america</td>\n",
              "      <td>05/12/2019</td>\n",
              "      <td>09/25/2019</td>\n",
              "      <td>231.583758</td>\n",
              "      <td>243.047276</td>\n",
              "      <td>135.627561</td>\n",
              "    </tr>\n",
              "  </tbody>\n",
              "</table>\n",
              "</div>"
            ],
            "text/plain": [
              "     valid_import   item  ...  actual_weight  days_in_transit\n",
              "61          False  cigar  ...    1551.161701       116.140911\n",
              "73          False  cigar  ...     200.966710       120.406246\n",
              "81          False  cigar  ...     289.694339       147.787560\n",
              "85          False  cigar  ...     655.845304       128.416712\n",
              "97          False  cigar  ...     303.328673       123.277846\n",
              "105         False  cigar  ...     243.047276       135.627561\n",
              "\n",
              "[6 rows x 14 columns]"
            ]
          },
          "metadata": {
            "tags": []
          },
          "execution_count": 12
        }
      ]
    },
    {
      "cell_type": "markdown",
      "metadata": {
        "id": "ZqxbwHTtxM6A",
        "colab_type": "text"
      },
      "source": [
        "**Existem Possíveis Outliers?**"
      ]
    },
    {
      "cell_type": "code",
      "metadata": {
        "id": "IECULZZuxMC_",
        "colab_type": "code",
        "colab": {}
      },
      "source": [
        "#realizando a análise de regressão\n",
        "x=dataframe_envio_portos['declared_weight'].values  #variável independente \n",
        "Y=dataframe_envio_portos['actual_weight'].values #variável dependente "
      ],
      "execution_count": 0,
      "outputs": []
    },
    {
      "cell_type": "code",
      "metadata": {
        "id": "pSoJQBOMy7F8",
        "colab_type": "code",
        "colab": {}
      },
      "source": [
        "#importa o modelo de regressão linear univariada\n",
        "from sklearn.linear_model import LinearRegression"
      ],
      "execution_count": 0,
      "outputs": []
    },
    {
      "cell_type": "code",
      "metadata": {
        "id": "AWHHadB4x9_k",
        "colab_type": "code",
        "colab": {}
      },
      "source": [
        "#Realiza a construção do modelo de regressão\n",
        "reg= LinearRegression()\n",
        "x_Reshaped=x.reshape((-1, 1)) #coloca os dados no formato 2D\n",
        "regressao= reg.fit (x_Reshaped,Y) # encontra os coeficientes (realiza a regressão)"
      ],
      "execution_count": 0,
      "outputs": []
    },
    {
      "cell_type": "code",
      "metadata": {
        "id": "nvBdinlry6VR",
        "colab_type": "code",
        "colab": {}
      },
      "source": [
        "#realiza a previsão\n",
        "previsao=reg.predict(x_Reshaped)"
      ],
      "execution_count": 0,
      "outputs": []
    },
    {
      "cell_type": "code",
      "metadata": {
        "id": "kYdLgLmOzhBr",
        "colab_type": "code",
        "colab": {}
      },
      "source": [
        "#análise do modelo\n",
        "from sklearn.metrics import r2_score #método para o cálculo do R2 (coeficiente de determinação)"
      ],
      "execution_count": 0,
      "outputs": []
    },
    {
      "cell_type": "code",
      "metadata": {
        "id": "2JBYpbs5za47",
        "colab_type": "code",
        "outputId": "cbcce31b-7b92-484a-e1fb-7f98a0e7c3d8",
        "colab": {
          "base_uri": "https://localhost:8080/",
          "height": 51
        }
      },
      "source": [
        "#parâmetros encontrados\n",
        "print('Y = {}X {}'.format(reg.coef_,reg.intercept_)) #intercept de: valor que irá interceptar o Y\n",
        "\n",
        "R_2 = r2_score(Y, previsao)  #realiza o cálculo do R2\n",
        "\n",
        "print(\"Coeficiente de Determinação (R2):\", R_2)\n"
      ],
      "execution_count": 21,
      "outputs": [
        {
          "output_type": "stream",
          "text": [
            "Y = [1.03718115]X -5.296233030439225\n",
            "Coeficiente de Determinação (R2): 0.9993288165644932\n"
          ],
          "name": "stdout"
        }
      ]
    },
    {
      "cell_type": "markdown",
      "metadata": {
        "id": "BlguRh0t0oU6",
        "colab_type": "text"
      },
      "source": [
        "**Pelo Coefiente de Determinação, o Que É Possível Afirmar Sobre a Relação Entre as Variáveis Peso Real x Peso Declarado?**"
      ]
    },
    {
      "cell_type": "code",
      "metadata": {
        "id": "Dl1idrd7zuJM",
        "colab_type": "code",
        "outputId": "be6e667d-a125-4ffd-832e-297a58814b6e",
        "colab": {
          "base_uri": "https://localhost:8080/",
          "height": 835
        }
      },
      "source": [
        "#realiza o plot dos dados\n",
        "plt.figure(figsize=(10, 10), dpi=100)\n",
        "plt.scatter(x, Y,  color='gray') #realiza o plot do gráfico de dispersão\n",
        "plt.plot(x, previsao, color='red', linewidth=2) # realiza o plto da \"linha\"\n",
        "plt.xlabel(\"Peso Declarado\")\n",
        "plt.ylabel(\"Peso Real\")\n",
        "plt.show()"
      ],
      "execution_count": 22,
      "outputs": [
        {
          "output_type": "display_data",
          "data": {
            "image/png": "[encoded data removed]",
            "text/plain": [
              "<Figure size 1000x1000 with 1 Axes>"
            ]
          },
          "metadata": {
            "tags": [],
            "needs_background": "light"
          }
        }
      ]
    },
    {
      "cell_type": "markdown",
      "metadata": {
        "id": "Gb_TJJ1MES-q",
        "colab_type": "text"
      },
      "source": [
        "**Realizando uma análise sobre o produto de origem Chinesa**"
      ]
    },
    {
      "cell_type": "code",
      "metadata": {
        "id": "fxPkBnLqyNgg",
        "colab_type": "code",
        "outputId": "3ab2c8fc-ef62-4601-f24f-cc0dcac00b03",
        "colab": {
          "base_uri": "https://localhost:8080/",
          "height": 34
        }
      },
      "source": [
        "dataframe_envio_portos['item'].nunique()  #conta a quantidade de valores em cada série (ou sejá, só tenho 1 tipo de cigar (sei pela resposta))"
      ],
      "execution_count": 25,
      "outputs": [
        {
          "output_type": "execute_result",
          "data": {
            "text/plain": [
              "1"
            ]
          },
          "metadata": {
            "tags": []
          },
          "execution_count": 25
        }
      ]
    },
    {
      "cell_type": "code",
      "metadata": {
        "id": "s0_pBsRcya-f",
        "colab_type": "code",
        "outputId": "b88b4a43-ce60-49ca-ac4f-6b0b56bd5828",
        "colab": {
          "base_uri": "https://localhost:8080/",
          "height": 34
        }
      },
      "source": [
        "dataframe_envio_portos['country_of_origin'].unique() #mostra os valores diferentes existentes"
      ],
      "execution_count": 26,
      "outputs": [
        {
          "output_type": "execute_result",
          "data": {
            "text/plain": [
              "array(['India', 'China', 'USA', 'France', 'Italy'], dtype=object)"
            ]
          },
          "metadata": {
            "tags": []
          },
          "execution_count": 26
        }
      ]
    },
    {
      "cell_type": "code",
      "metadata": {
        "id": "5U8ohOO6EhyD",
        "colab_type": "code",
        "outputId": "7822b128-6825-4f14-c5bf-5d93cebd4b7d",
        "colab": {
          "base_uri": "https://localhost:8080/",
          "height": 204
        }
      },
      "source": [
        "new_df=dataframe_envio_portos[dataframe_envio_portos['country_of_origin']=='China']\n",
        "new_df=new_df[['declared_quantity','declared_cost','declared_weight','actual_weight']]\n",
        "new_df.head()"
      ],
      "execution_count": 27,
      "outputs": [
        {
          "output_type": "execute_result",
          "data": {
            "text/html": [
              "<div>\n",
              "<style scoped>\n",
              "    .dataframe tbody tr th:only-of-type {\n",
              "        vertical-align: middle;\n",
              "    }\n",
              "\n",
              "    .dataframe tbody tr th {\n",
              "        vertical-align: top;\n",
              "    }\n",
              "\n",
              "    .dataframe thead th {\n",
              "        text-align: right;\n",
              "    }\n",
              "</style>\n",
              "<table border=\"1\" class=\"dataframe\">\n",
              "  <thead>\n",
              "    <tr style=\"text-align: right;\">\n",
              "      <th></th>\n",
              "      <th>declared_quantity</th>\n",
              "      <th>declared_cost</th>\n",
              "      <th>declared_weight</th>\n",
              "      <th>actual_weight</th>\n",
              "    </tr>\n",
              "  </thead>\n",
              "  <tbody>\n",
              "    <tr>\n",
              "      <th>4</th>\n",
              "      <td>141</td>\n",
              "      <td>4396.397887</td>\n",
              "      <td>761.744581</td>\n",
              "      <td>781.735080</td>\n",
              "    </tr>\n",
              "    <tr>\n",
              "      <th>5</th>\n",
              "      <td>122</td>\n",
              "      <td>6092.118365</td>\n",
              "      <td>1332.198492</td>\n",
              "      <td>1345.364184</td>\n",
              "    </tr>\n",
              "    <tr>\n",
              "      <th>6</th>\n",
              "      <td>136</td>\n",
              "      <td>5199.846978</td>\n",
              "      <td>1763.483791</td>\n",
              "      <td>1840.537634</td>\n",
              "    </tr>\n",
              "    <tr>\n",
              "      <th>7</th>\n",
              "      <td>141</td>\n",
              "      <td>6680.072683</td>\n",
              "      <td>1320.163263</td>\n",
              "      <td>1370.156345</td>\n",
              "    </tr>\n",
              "    <tr>\n",
              "      <th>24</th>\n",
              "      <td>140</td>\n",
              "      <td>6670.143239</td>\n",
              "      <td>1408.681150</td>\n",
              "      <td>1449.195819</td>\n",
              "    </tr>\n",
              "  </tbody>\n",
              "</table>\n",
              "</div>"
            ],
            "text/plain": [
              "    declared_quantity  declared_cost  declared_weight  actual_weight\n",
              "4                 141    4396.397887       761.744581     781.735080\n",
              "5                 122    6092.118365      1332.198492    1345.364184\n",
              "6                 136    5199.846978      1763.483791    1840.537634\n",
              "7                 141    6680.072683      1320.163263    1370.156345\n",
              "24                140    6670.143239      1408.681150    1449.195819"
            ]
          },
          "metadata": {
            "tags": []
          },
          "execution_count": 27
        }
      ]
    },
    {
      "cell_type": "code",
      "metadata": {
        "id": "7vOHwgVl4ejD",
        "colab_type": "code",
        "colab": {}
      },
      "source": [
        "#aplicando a regressão linear para as variáveis \n",
        "x2=new_df['declared_weight'].values  #variável independente \n",
        "Y2=new_df['actual_weight'].values #variável dependente "
      ],
      "execution_count": 0,
      "outputs": []
    },
    {
      "cell_type": "code",
      "metadata": {
        "id": "1R1u9byV5pXr",
        "colab_type": "code",
        "colab": {}
      },
      "source": [
        "#Realiza a construção do modelo de regressão\n",
        "reg2= LinearRegression()\n",
        "x_Reshaped2=x2.reshape(-1, 1) #coloca os dados no formato 2D\n",
        "regressao2= reg2.fit (x_Reshaped2,Y2) # encontra os coeficientes (realiza a regressão)"
      ],
      "execution_count": 0,
      "outputs": []
    },
    {
      "cell_type": "code",
      "metadata": {
        "id": "OwhG2xPm52fW",
        "colab_type": "code",
        "colab": {}
      },
      "source": [
        "#realiza a previsão\n",
        "previsao2=reg2.predict(x_Reshaped2)"
      ],
      "execution_count": 0,
      "outputs": []
    },
    {
      "cell_type": "code",
      "metadata": {
        "id": "_oGaO3ui6A-V",
        "colab_type": "code",
        "outputId": "d0df114c-b82f-4126-d681-dc62acd56b25",
        "colab": {
          "base_uri": "https://localhost:8080/",
          "height": 34
        }
      },
      "source": [
        "R_2 = r2_score(Y2, previsao2)  #realiza o cálculo do R2\n",
        "print(R_2)"
      ],
      "execution_count": 31,
      "outputs": [
        {
          "output_type": "stream",
          "text": [
            "0.9991166595706871\n"
          ],
          "name": "stdout"
        }
      ]
    },
    {
      "cell_type": "code",
      "metadata": {
        "id": "F0QekAhu6Tc-",
        "colab_type": "code",
        "outputId": "4b35f477-15d4-4a7e-8799-113f2d02361c",
        "colab": {
          "base_uri": "https://localhost:8080/",
          "height": 856
        }
      },
      "source": [
        "#realiza o plot dos dados\n",
        "plt.figure(figsize=(15, 10), dpi=100)\n",
        "plt.scatter(x2, Y2,  color='gray') #realiza o plot do gráfico de dispersão\n",
        "plt.plot(x2, previsao2, color='red', linewidth=2) # realiza o plto da \"linha\"\n",
        "plt.xlabel(\"Peso Declarado\")\n",
        "plt.ylabel(\"Peso Real\")\n",
        "plt.title(\"Produtos Chineses\")\n",
        "plt.show()"
      ],
      "execution_count": 32,
      "outputs": [
        {
          "output_type": "display_data",
          "data": {
            "image/png": "[encoded data removed]",
            "text/plain": [
              "<Figure size 1500x1000 with 1 Axes>"
            ]
          },
          "metadata": {
            "tags": [],
            "needs_background": "light"
          }
        }
      ]
    },
    {
      "cell_type": "code",
      "metadata": {
        "id": "bTVulb0l6m6o",
        "colab_type": "code",
        "colab": {}
      },
      "source": [
        "#analisando a correlação entre os dados"
      ],
      "execution_count": 0,
      "outputs": []
    },
    {
      "cell_type": "code",
      "metadata": {
        "id": "2o2fDemg6lt5",
        "colab_type": "code",
        "outputId": "aded9430-ac46-4b79-ca25-a393f8ff0146",
        "colab": {
          "base_uri": "https://localhost:8080/",
          "height": 596
        }
      },
      "source": [
        "#realizando o plot da matriz de correlação\n",
        "plt.figure(figsize=(20, 10))\n",
        "matriz_de_correlação = new_df.corr()  #construindo a matriz de correlação\n",
        "sn.heatmap(matriz_de_correlação, annot=True,vmin=-1, vmax=1,center= 0)  #plotando a matriz de correlação com o seaborn\n",
        "plt.show()"
      ],
      "execution_count": 34,
      "outputs": [
        {
          "output_type": "display_data",
          "data": {
            "image/png": "[encoded data removed]",
            "text/plain": [
              "<Figure size 1440x720 with 2 Axes>"
            ]
          },
          "metadata": {
            "tags": [],
            "needs_background": "light"
          }
        }
      ]
    },
    {
      "cell_type": "markdown",
      "metadata": {
        "id": "HY1T4CrSzpOi",
        "colab_type": "text"
      },
      "source": [
        "**Regressão Com Árvore de Decisão**"
      ]
    },
    {
      "cell_type": "code",
      "metadata": {
        "id": "L2vbHz0RFk7S",
        "colab_type": "code",
        "colab": {}
      },
      "source": [
        "from sklearn.preprocessing import MinMaxScaler\n",
        "scaler = MinMaxScaler()\n",
        "scaled_df = scaler.fit_transform(new_df)"
      ],
      "execution_count": 0,
      "outputs": []
    },
    {
      "cell_type": "code",
      "metadata": {
        "id": "xp9xmSZZ9X_r",
        "colab_type": "code",
        "colab": {}
      },
      "source": [
        "from sklearn.tree import DecisionTreeRegressor  #importando a árvore de decisão como regressor"
      ],
      "execution_count": 0,
      "outputs": []
    },
    {
      "cell_type": "code",
      "metadata": {
        "id": "odc5_dZW_gsq",
        "colab_type": "code",
        "colab": {}
      },
      "source": [
        "entrada_arvore=scaled_df[:,2].reshape(-1,1) #entrada para a regressão via árvore\n",
        "saida_arvore=scaled_df[:,3].reshape(-1,1) #saída para a regressão via árvore"
      ],
      "execution_count": 0,
      "outputs": []
    },
    {
      "cell_type": "code",
      "metadata": {
        "id": "aKsXMMJxAqzR",
        "colab_type": "code",
        "colab": {}
      },
      "source": [
        "x_train, x_test, y_train, y_test = train_test_split(entrada_arvore, saida_arvore, test_size=0.30, random_state=42) #divisão entre treinamento e teste (0.30 é de 30% dos dados para teste e 70%p para treinar o modelo)"
      ],
      "execution_count": 0,
      "outputs": []
    },
    {
      "cell_type": "code",
      "metadata": {
        "id": "facXLNif_EB7",
        "colab_type": "code",
        "outputId": "1dd6c1b9-31d7-48b4-dfd3-bcf43635caa2",
        "colab": {
          "base_uri": "https://localhost:8080/",
          "height": 119
        }
      },
      "source": [
        "arvore_regressora=DecisionTreeRegressor() #define o objeto para a árvore de decisão como regressora\n",
        "arvore_regressora.fit(x_train, y_train) #aplica a regressão"
      ],
      "execution_count": 40,
      "outputs": [
        {
          "output_type": "execute_result",
          "data": {
            "text/plain": [
              "DecisionTreeRegressor(ccp_alpha=0.0, criterion='mse', max_depth=None,\n",
              "                      max_features=None, max_leaf_nodes=None,\n",
              "                      min_impurity_decrease=0.0, min_impurity_split=None,\n",
              "                      min_samples_leaf=1, min_samples_split=2,\n",
              "                      min_weight_fraction_leaf=0.0, presort='deprecated',\n",
              "                      random_state=None, splitter='best')"
            ]
          },
          "metadata": {
            "tags": []
          },
          "execution_count": 40
        }
      ]
    },
    {
      "cell_type": "code",
      "metadata": {
        "id": "HkBrBc7E_7Pe",
        "colab_type": "code",
        "colab": {}
      },
      "source": [
        "#realiza a previsão\n",
        "previsao_arvore=arvore_regressora.predict(x_test)"
      ],
      "execution_count": 0,
      "outputs": []
    },
    {
      "cell_type": "code",
      "metadata": {
        "id": "zGNsUTNSADtt",
        "colab_type": "code",
        "outputId": "ee56b413-9c14-4850-ca56-fc83a5df9f78",
        "colab": {
          "base_uri": "https://localhost:8080/",
          "height": 51
        }
      },
      "source": [
        "from sklearn import metrics\n",
        "print('Erro absoluto:', metrics.mean_absolute_error(y_test, previsao_arvore))\n",
        "print('Mean Squared Error:', metrics.mean_squared_error(y_test, previsao_arvore))"
      ],
      "execution_count": 44,
      "outputs": [
        {
          "output_type": "stream",
          "text": [
            "Erro absoluto: 0.03520773942059599\n",
            "Mean Squared Error: 0.0024370030658980744\n"
          ],
          "name": "stdout"
        }
      ]
    },
    {
      "cell_type": "code",
      "metadata": {
        "id": "jMNXabxbCqhD",
        "colab_type": "code",
        "outputId": "2534e496-1eaf-40c5-9035-e4a8b446c7bc",
        "colab": {
          "base_uri": "https://localhost:8080/",
          "height": 623
        }
      },
      "source": [
        "plt.figure(figsize=(20, 10))\n",
        "X_grid = np.arange(min(entrada_arvore), max(entrada_arvore), 0.001)\n",
        "X_grid = X_grid.reshape((len(X_grid), 1))\n",
        "plt.scatter(entrada_arvore,saida_arvore, color = 'red')\n",
        "plt.plot(X_grid, arvore_regressora.predict(X_grid), color = 'blue')\n",
        "plt.title('Exemplo de Regressão com Árvore de Decisão')\n",
        "plt.xlabel('Peso Declarado')\n",
        "plt.ylabel('Peso Real')\n",
        "plt.show()"
      ],
      "execution_count": 45,
      "outputs": [
        {
          "output_type": "display_data",
          "data": {
            "image/png": "[encoded data removed]",
            "text/plain": [
              "<Figure size 1440x720 with 1 Axes>"
            ]
          },
          "metadata": {
            "tags": [],
            "needs_background": "light"
          }
        }
      ]
    }
  ]
}