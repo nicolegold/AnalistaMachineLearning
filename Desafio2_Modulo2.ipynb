{
  "nbformat": 4,
  "nbformat_minor": 0,
  "metadata": {
    "colab": {
      "name": "Desafio2_Modulo2.ipynb",
      "provenance": [],
      "collapsed_sections": [],
      "authorship_tag": "ABX9TyMhdHWwksXbQDxiHE7YO/6X",
      "include_colab_link": true
    },
    "kernelspec": {
      "name": "python3",
      "display_name": "Python 3"
    }
  },
  "cells": [
    {
      "cell_type": "markdown",
      "metadata": {
        "id": "view-in-github",
        "colab_type": "text"
      },
      "source": [
        "<a href=\"https://colab.research.google.com/github/nicolegold/AnalistaMachineLearning/blob/master/Desafio2_Modulo2.ipynb\" target=\"_parent\"><img src=\"https://colab.research.google.com/assets/colab-badge.svg\" alt=\"Open In Colab\"/></a>"
      ]
    },
    {
      "cell_type": "code",
      "metadata": {
        "id": "ZxbTXSq0ltJF",
        "colab_type": "code",
        "colab": {}
      },
      "source": [
        "import pandas as pd\n",
        "import numpy as np\n",
        "import seaborn as sns\n",
        "import matplotlib.pyplot as plt\n",
        "%matplotlib inline\n",
        "\n",
        "# Analise estatística\n",
        "from scipy.stats import pearsonr\n",
        "\n",
        "# Bibliotecas dos modelos a serem aplicados\n",
        "from sklearn.neighbors import KNeighborsClassifier\n",
        "from sklearn.tree import DecisionTreeClassifier\n",
        "from sklearn.ensemble import RandomForestClassifier\n",
        "from sklearn.svm import SVC\n",
        "from sklearn.neural_network import MLPClassifier\n",
        "\n",
        "# Ferramentas para o pré-processamento\n",
        "from sklearn.preprocessing import MinMaxScaler\n",
        "from sklearn.model_selection import train_test_split\n",
        "\n",
        "# Métricas para avaliação do modelo\n",
        "from sklearn.metrics import classification_report, confusion_matrix, accuracy_score, r2_score, plot_confusion_matrix"
      ],
      "execution_count": 0,
      "outputs": []
    },
    {
      "cell_type": "code",
      "metadata": {
        "id": "ldw6W1E5_mYx",
        "colab_type": "code",
        "colab": {}
      },
      "source": [
        "# Definição do nome das colunas\n",
        "colunas = [\"fixed acidity\",\"volatile acidity\",\"citric acid\",\"residual sugar\",\"chlorides\",\"free sulfur dioxide\",\"total sulfur dioxide\",\"density\",\"pH\",\"sulphates\",\"alcohol\",\"quality\"]"
      ],
      "execution_count": 0,
      "outputs": []
    },
    {
      "cell_type": "code",
      "metadata": {
        "id": "oB4n4E7H_cs_",
        "colab_type": "code",
        "colab": {}
      },
      "source": [
        "# Leitura do dataset\n",
        "df_wine = pd.read_csv('winequality-red.csv', sep=';', names = colunas, header=0)"
      ],
      "execution_count": 0,
      "outputs": []
    },
    {
      "cell_type": "code",
      "metadata": {
        "id": "N_jv6gpDA8li",
        "colab_type": "code",
        "outputId": "72b8c00c-c8d2-4931-eb39-edb1c94a9232",
        "colab": {
          "base_uri": "https://localhost:8080/",
          "height": 215
        }
      },
      "source": [
        "# Visualizando as 5 primeiras linhas/observações\n",
        "df_wine.head()"
      ],
      "execution_count": 19,
      "outputs": [
        {
          "output_type": "execute_result",
          "data": {
            "text/html": [
              "<div>\n",
              "<style scoped>\n",
              "    .dataframe tbody tr th:only-of-type {\n",
              "        vertical-align: middle;\n",
              "    }\n",
              "\n",
              "    .dataframe tbody tr th {\n",
              "        vertical-align: top;\n",
              "    }\n",
              "\n",
              "    .dataframe thead th {\n",
              "        text-align: right;\n",
              "    }\n",
              "</style>\n",
              "<table border=\"1\" class=\"dataframe\">\n",
              "  <thead>\n",
              "    <tr style=\"text-align: right;\">\n",
              "      <th></th>\n",
              "      <th>fixed acidity</th>\n",
              "      <th>volatile acidity</th>\n",
              "      <th>citric acid</th>\n",
              "      <th>residual sugar</th>\n",
              "      <th>chlorides</th>\n",
              "      <th>free sulfur dioxide</th>\n",
              "      <th>total sulfur dioxide</th>\n",
              "      <th>density</th>\n",
              "      <th>pH</th>\n",
              "      <th>sulphates</th>\n",
              "      <th>alcohol</th>\n",
              "      <th>quality</th>\n",
              "    </tr>\n",
              "  </thead>\n",
              "  <tbody>\n",
              "    <tr>\n",
              "      <th>0</th>\n",
              "      <td>7.4</td>\n",
              "      <td>0.70</td>\n",
              "      <td>0.00</td>\n",
              "      <td>1.9</td>\n",
              "      <td>0.076</td>\n",
              "      <td>11.0</td>\n",
              "      <td>34.0</td>\n",
              "      <td>0.9978</td>\n",
              "      <td>3.51</td>\n",
              "      <td>0.56</td>\n",
              "      <td>9.4</td>\n",
              "      <td>5</td>\n",
              "    </tr>\n",
              "    <tr>\n",
              "      <th>1</th>\n",
              "      <td>7.8</td>\n",
              "      <td>0.88</td>\n",
              "      <td>0.00</td>\n",
              "      <td>2.6</td>\n",
              "      <td>0.098</td>\n",
              "      <td>25.0</td>\n",
              "      <td>67.0</td>\n",
              "      <td>0.9968</td>\n",
              "      <td>3.20</td>\n",
              "      <td>0.68</td>\n",
              "      <td>9.8</td>\n",
              "      <td>5</td>\n",
              "    </tr>\n",
              "    <tr>\n",
              "      <th>2</th>\n",
              "      <td>7.8</td>\n",
              "      <td>0.76</td>\n",
              "      <td>0.04</td>\n",
              "      <td>2.3</td>\n",
              "      <td>0.092</td>\n",
              "      <td>15.0</td>\n",
              "      <td>54.0</td>\n",
              "      <td>0.9970</td>\n",
              "      <td>3.26</td>\n",
              "      <td>0.65</td>\n",
              "      <td>9.8</td>\n",
              "      <td>5</td>\n",
              "    </tr>\n",
              "    <tr>\n",
              "      <th>3</th>\n",
              "      <td>11.2</td>\n",
              "      <td>0.28</td>\n",
              "      <td>0.56</td>\n",
              "      <td>1.9</td>\n",
              "      <td>0.075</td>\n",
              "      <td>17.0</td>\n",
              "      <td>60.0</td>\n",
              "      <td>0.9980</td>\n",
              "      <td>3.16</td>\n",
              "      <td>0.58</td>\n",
              "      <td>9.8</td>\n",
              "      <td>6</td>\n",
              "    </tr>\n",
              "    <tr>\n",
              "      <th>4</th>\n",
              "      <td>7.4</td>\n",
              "      <td>0.70</td>\n",
              "      <td>0.00</td>\n",
              "      <td>1.9</td>\n",
              "      <td>0.076</td>\n",
              "      <td>11.0</td>\n",
              "      <td>34.0</td>\n",
              "      <td>0.9978</td>\n",
              "      <td>3.51</td>\n",
              "      <td>0.56</td>\n",
              "      <td>9.4</td>\n",
              "      <td>5</td>\n",
              "    </tr>\n",
              "  </tbody>\n",
              "</table>\n",
              "</div>"
            ],
            "text/plain": [
              "   fixed acidity  volatile acidity  citric acid  ...  sulphates  alcohol  quality\n",
              "0            7.4              0.70         0.00  ...       0.56      9.4        5\n",
              "1            7.8              0.88         0.00  ...       0.68      9.8        5\n",
              "2            7.8              0.76         0.04  ...       0.65      9.8        5\n",
              "3           11.2              0.28         0.56  ...       0.58      9.8        6\n",
              "4            7.4              0.70         0.00  ...       0.56      9.4        5\n",
              "\n",
              "[5 rows x 12 columns]"
            ]
          },
          "metadata": {
            "tags": []
          },
          "execution_count": 19
        }
      ]
    },
    {
      "cell_type": "markdown",
      "metadata": {
        "id": "CPzGgXFKBHZJ",
        "colab_type": "text"
      },
      "source": [
        "# 1) No dataset utilizado para o desafio, quantas instâncias e atributos existem, respectivamente? 1599 instâncias e 12 atributos"
      ]
    },
    {
      "cell_type": "code",
      "metadata": {
        "id": "PxHu9iPwBRmv",
        "colab_type": "code",
        "outputId": "62937f39-bbe5-43eb-851f-fe8dde4a2695",
        "colab": {
          "base_uri": "https://localhost:8080/",
          "height": 35
        }
      },
      "source": [
        "df_wine.shape"
      ],
      "execution_count": 20,
      "outputs": [
        {
          "output_type": "execute_result",
          "data": {
            "text/plain": [
              "(1599, 12)"
            ]
          },
          "metadata": {
            "tags": []
          },
          "execution_count": 20
        }
      ]
    },
    {
      "cell_type": "markdown",
      "metadata": {
        "id": "QY_ozJplBJ0M",
        "colab_type": "text"
      },
      "source": [
        "Resposta: 1599 instâncias e 12 atributos"
      ]
    },
    {
      "cell_type": "markdown",
      "metadata": {
        "id": "LI9mvXT1BNHp",
        "colab_type": "text"
      },
      "source": [
        "# 2) Quantos tipos diferentes de dados existem no dataset do desafio? 2 tipos: float64 e int64"
      ]
    },
    {
      "cell_type": "code",
      "metadata": {
        "id": "Uxya5x2oA-5i",
        "colab_type": "code",
        "outputId": "636b94c4-ba88-42de-d6da-e142faf4ceec",
        "colab": {
          "base_uri": "https://localhost:8080/",
          "height": 363
        }
      },
      "source": [
        "df_wine.info()"
      ],
      "execution_count": 21,
      "outputs": [
        {
          "output_type": "stream",
          "text": [
            "<class 'pandas.core.frame.DataFrame'>\n",
            "RangeIndex: 1599 entries, 0 to 1598\n",
            "Data columns (total 12 columns):\n",
            " #   Column                Non-Null Count  Dtype  \n",
            "---  ------                --------------  -----  \n",
            " 0   fixed acidity         1599 non-null   float64\n",
            " 1   volatile acidity      1599 non-null   float64\n",
            " 2   citric acid           1599 non-null   float64\n",
            " 3   residual sugar        1599 non-null   float64\n",
            " 4   chlorides             1599 non-null   float64\n",
            " 5   free sulfur dioxide   1599 non-null   float64\n",
            " 6   total sulfur dioxide  1599 non-null   float64\n",
            " 7   density               1599 non-null   float64\n",
            " 8   pH                    1599 non-null   float64\n",
            " 9   sulphates             1599 non-null   float64\n",
            " 10  alcohol               1599 non-null   float64\n",
            " 11  quality               1599 non-null   int64  \n",
            "dtypes: float64(11), int64(1)\n",
            "memory usage: 150.0 KB\n"
          ],
          "name": "stdout"
        }
      ]
    },
    {
      "cell_type": "markdown",
      "metadata": {
        "id": "fVagJ9XKBOjE",
        "colab_type": "text"
      },
      "source": [
        "Resposta: 2 tipos (float64 e int64)"
      ]
    },
    {
      "cell_type": "markdown",
      "metadata": {
        "id": "vXny_DPgB1Yb",
        "colab_type": "text"
      },
      "source": [
        "# 3) Qual é a proporção (em %) de valores nulos existente na coluna \"residual sugar\" (resíduo de açucar)?"
      ]
    },
    {
      "cell_type": "code",
      "metadata": {
        "id": "T-jjKt9IB3es",
        "colab_type": "code",
        "outputId": "1bbafc4f-98b2-43d6-fcee-f40b09cc137b",
        "colab": {
          "base_uri": "https://localhost:8080/",
          "height": 35
        }
      },
      "source": [
        "df_wine['residual sugar'].isnull().sum() / len(df_wine['residual sugar'] * 100)"
      ],
      "execution_count": 22,
      "outputs": [
        {
          "output_type": "execute_result",
          "data": {
            "text/plain": [
              "0.0"
            ]
          },
          "metadata": {
            "tags": []
          },
          "execution_count": 22
        }
      ]
    },
    {
      "cell_type": "markdown",
      "metadata": {
        "id": "p2ZLrKstB2Vw",
        "colab_type": "text"
      },
      "source": [
        "Resposta: 0%"
      ]
    },
    {
      "cell_type": "markdown",
      "metadata": {
        "id": "sD2t5sZTCJ3T",
        "colab_type": "text"
      },
      "source": [
        "# 4) Qual é o desvio padrão para a variável \"fixed acidity\" ?"
      ]
    },
    {
      "cell_type": "code",
      "metadata": {
        "id": "Vfwsp1hkCOTV",
        "colab_type": "code",
        "outputId": "1f8425c9-0bcb-4d18-c239-5aee162f048d",
        "colab": {
          "base_uri": "https://localhost:8080/",
          "height": 35
        }
      },
      "source": [
        "df_wine['fixed acidity'].std()"
      ],
      "execution_count": 23,
      "outputs": [
        {
          "output_type": "execute_result",
          "data": {
            "text/plain": [
              "1.7410963181277006"
            ]
          },
          "metadata": {
            "tags": []
          },
          "execution_count": 23
        }
      ]
    },
    {
      "cell_type": "markdown",
      "metadata": {
        "id": "ThK4uIJPCNTq",
        "colab_type": "text"
      },
      "source": [
        "Resposta: 1.74"
      ]
    },
    {
      "cell_type": "markdown",
      "metadata": {
        "id": "ElW88ygNCXYk",
        "colab_type": "text"
      },
      "source": [
        "#5) Qual é a mediana para a variável \"residual sugar\"?"
      ]
    },
    {
      "cell_type": "code",
      "metadata": {
        "id": "-vvmph_ICaGq",
        "colab_type": "code",
        "outputId": "74087fc3-38d4-4c72-ca0a-e0e2c3fbe044",
        "colab": {
          "base_uri": "https://localhost:8080/",
          "height": 35
        }
      },
      "source": [
        "df_wine['residual sugar'].median()"
      ],
      "execution_count": 24,
      "outputs": [
        {
          "output_type": "execute_result",
          "data": {
            "text/plain": [
              "2.2"
            ]
          },
          "metadata": {
            "tags": []
          },
          "execution_count": 24
        }
      ]
    },
    {
      "cell_type": "markdown",
      "metadata": {
        "id": "4Hmz7iqaCY3b",
        "colab_type": "text"
      },
      "source": [
        "Resposta: 2.2"
      ]
    },
    {
      "cell_type": "markdown",
      "metadata": {
        "id": "fZI4BopAClYk",
        "colab_type": "text"
      },
      "source": [
        "6) Sobre o coeficiente de correlação de Pearson entre as variáveis \"fixed acidity\" e \"pH\" é CORRETO afirmar:"
      ]
    },
    {
      "cell_type": "code",
      "metadata": {
        "id": "eOybN4D-Cnr5",
        "colab_type": "code",
        "outputId": "0a70165a-0261-426a-ebfb-d18afa521ec2",
        "colab": {
          "base_uri": "https://localhost:8080/",
          "height": 108
        }
      },
      "source": [
        "df_wine[['fixed acidity', 'pH']].corr()"
      ],
      "execution_count": 25,
      "outputs": [
        {
          "output_type": "execute_result",
          "data": {
            "text/html": [
              "<div>\n",
              "<style scoped>\n",
              "    .dataframe tbody tr th:only-of-type {\n",
              "        vertical-align: middle;\n",
              "    }\n",
              "\n",
              "    .dataframe tbody tr th {\n",
              "        vertical-align: top;\n",
              "    }\n",
              "\n",
              "    .dataframe thead th {\n",
              "        text-align: right;\n",
              "    }\n",
              "</style>\n",
              "<table border=\"1\" class=\"dataframe\">\n",
              "  <thead>\n",
              "    <tr style=\"text-align: right;\">\n",
              "      <th></th>\n",
              "      <th>fixed acidity</th>\n",
              "      <th>pH</th>\n",
              "    </tr>\n",
              "  </thead>\n",
              "  <tbody>\n",
              "    <tr>\n",
              "      <th>fixed acidity</th>\n",
              "      <td>1.000000</td>\n",
              "      <td>-0.682978</td>\n",
              "    </tr>\n",
              "    <tr>\n",
              "      <th>pH</th>\n",
              "      <td>-0.682978</td>\n",
              "      <td>1.000000</td>\n",
              "    </tr>\n",
              "  </tbody>\n",
              "</table>\n",
              "</div>"
            ],
            "text/plain": [
              "               fixed acidity        pH\n",
              "fixed acidity       1.000000 -0.682978\n",
              "pH                 -0.682978  1.000000"
            ]
          },
          "metadata": {
            "tags": []
          },
          "execution_count": 25
        }
      ]
    },
    {
      "cell_type": "code",
      "metadata": {
        "id": "SYDSZl0wD_vz",
        "colab_type": "code",
        "outputId": "91d4bf33-fdd2-497b-b9d9-02dae7dd2f31",
        "colab": {
          "base_uri": "https://localhost:8080/",
          "height": 35
        }
      },
      "source": [
        "cor_pear6,_ = pearsonr(df_wine['fixed acidity'],df_wine['pH'])\n",
        "print(\"coeficiente de correlação de Pearson entre as variáveis 'fixed acidity' e 'pH' é: {}\".format(cor_pear6))"
      ],
      "execution_count": 26,
      "outputs": [
        {
          "output_type": "stream",
          "text": [
            "coeficiente de correlação de Pearson entre as variáveis 'fixed acidity' e 'pH' é: -0.6829781945685314\n"
          ],
          "name": "stdout"
        }
      ]
    },
    {
      "cell_type": "markdown",
      "metadata": {
        "id": "POgXw5fSCm4H",
        "colab_type": "text"
      },
      "source": [
        "Resposta: Existe uma correlação negativa. Quanto maior o \"fixed acidity, menor é o \"pH\"."
      ]
    },
    {
      "cell_type": "markdown",
      "metadata": {
        "id": "1ORLoKtNCy3s",
        "colab_type": "text"
      },
      "source": [
        "# 7) Mesmo sendo reduzido, é CORRETO dizer sobre o coeficiente de correlação de Pearson entre as variáveis \"quality\" e \"alcohol\":"
      ]
    },
    {
      "cell_type": "code",
      "metadata": {
        "id": "ZQ8uAt90C_ve",
        "colab_type": "code",
        "outputId": "6c8965e7-0028-46d4-c73b-44eabb349a88",
        "colab": {
          "base_uri": "https://localhost:8080/",
          "height": 108
        }
      },
      "source": [
        "df_wine[['quality', 'alcohol']].corr()"
      ],
      "execution_count": 27,
      "outputs": [
        {
          "output_type": "execute_result",
          "data": {
            "text/html": [
              "<div>\n",
              "<style scoped>\n",
              "    .dataframe tbody tr th:only-of-type {\n",
              "        vertical-align: middle;\n",
              "    }\n",
              "\n",
              "    .dataframe tbody tr th {\n",
              "        vertical-align: top;\n",
              "    }\n",
              "\n",
              "    .dataframe thead th {\n",
              "        text-align: right;\n",
              "    }\n",
              "</style>\n",
              "<table border=\"1\" class=\"dataframe\">\n",
              "  <thead>\n",
              "    <tr style=\"text-align: right;\">\n",
              "      <th></th>\n",
              "      <th>quality</th>\n",
              "      <th>alcohol</th>\n",
              "    </tr>\n",
              "  </thead>\n",
              "  <tbody>\n",
              "    <tr>\n",
              "      <th>quality</th>\n",
              "      <td>1.000000</td>\n",
              "      <td>0.476166</td>\n",
              "    </tr>\n",
              "    <tr>\n",
              "      <th>alcohol</th>\n",
              "      <td>0.476166</td>\n",
              "      <td>1.000000</td>\n",
              "    </tr>\n",
              "  </tbody>\n",
              "</table>\n",
              "</div>"
            ],
            "text/plain": [
              "          quality   alcohol\n",
              "quality  1.000000  0.476166\n",
              "alcohol  0.476166  1.000000"
            ]
          },
          "metadata": {
            "tags": []
          },
          "execution_count": 27
        }
      ]
    },
    {
      "cell_type": "code",
      "metadata": {
        "id": "9uWcG1YlEn9V",
        "colab_type": "code",
        "outputId": "bf24414b-f014-4094-c2dc-b64c73ce0f28",
        "colab": {
          "base_uri": "https://localhost:8080/",
          "height": 35
        }
      },
      "source": [
        "cor_pear7, _ = pearsonr(df_wine['quality'],df_wine['alcohol'])\n",
        "print(\"O coeficiente de correlação de Pearson entre as variáveis 'quality' e 'alcohol' é: {}\".format(cor_pear7))"
      ],
      "execution_count": 28,
      "outputs": [
        {
          "output_type": "stream",
          "text": [
            "O coeficiente de correlação de Pearson entre as variáveis 'quality' e 'alcohol' é: 0.47616632400113607\n"
          ],
          "name": "stdout"
        }
      ]
    },
    {
      "cell_type": "markdown",
      "metadata": {
        "id": "hsLZK8EqC5Jb",
        "colab_type": "text"
      },
      "source": [
        "Resposta: Quanto maior o teor alcoolico (alcohol), maior é a qualidade do vinho (quality)."
      ]
    },
    {
      "cell_type": "markdown",
      "metadata": {
        "id": "X-uMmF1RDC5b",
        "colab_type": "text"
      },
      "source": [
        "# 8) Quantas instâncias existem para a qualidade do vinho igual a 5?"
      ]
    },
    {
      "cell_type": "code",
      "metadata": {
        "id": "IDo57Kx-DLsH",
        "colab_type": "code",
        "outputId": "864fb38a-7ff9-45d4-a539-92dd563a5f23",
        "colab": {
          "base_uri": "https://localhost:8080/",
          "height": 145
        }
      },
      "source": [
        "df_wine['quality'].value_counts()"
      ],
      "execution_count": 29,
      "outputs": [
        {
          "output_type": "execute_result",
          "data": {
            "text/plain": [
              "5    681\n",
              "6    638\n",
              "7    199\n",
              "4     53\n",
              "8     18\n",
              "3     10\n",
              "Name: quality, dtype: int64"
            ]
          },
          "metadata": {
            "tags": []
          },
          "execution_count": 29
        }
      ]
    },
    {
      "cell_type": "code",
      "metadata": {
        "id": "J3Yq8mIWFCPw",
        "colab_type": "code",
        "outputId": "6157be3b-71e0-4e4a-ff5f-d542d9858e69",
        "colab": {
          "base_uri": "https://localhost:8080/",
          "height": 35
        }
      },
      "source": [
        "print(\"Existem {} instâncias para a qualidade do vinho 5\".format(len(df_wine[df_wine['quality']==5])))"
      ],
      "execution_count": 30,
      "outputs": [
        {
          "output_type": "stream",
          "text": [
            "Existem 681 instâncias para a qualidade do vinho 5\n"
          ],
          "name": "stdout"
        }
      ]
    },
    {
      "cell_type": "code",
      "metadata": {
        "id": "m6xvnOPHGfgs",
        "colab_type": "code",
        "outputId": "d10b7404-7e7c-4bd5-d2ee-4f92c6b76b27",
        "colab": {
          "base_uri": "https://localhost:8080/",
          "height": 54
        }
      },
      "source": [
        "print(\"Instâncias em 5: \\n{}\".format(len(df_wine[df_wine['quality']==5])))"
      ],
      "execution_count": 31,
      "outputs": [
        {
          "output_type": "stream",
          "text": [
            "Instâncias em 5: \n",
            "681\n"
          ],
          "name": "stdout"
        }
      ]
    },
    {
      "cell_type": "code",
      "metadata": {
        "id": "D_Kx91sOGMbP",
        "colab_type": "code",
        "outputId": "6bfe2dc9-0f77-4513-dd91-8930b5e96dac",
        "colab": {
          "base_uri": "https://localhost:8080/",
          "height": 54
        }
      },
      "source": [
        "print(\"Instâncias existem para a qualidade do vinho igual a 5:\\n {}\".format(len(df_wine[df_wine['quality']==5])))"
      ],
      "execution_count": 32,
      "outputs": [
        {
          "output_type": "stream",
          "text": [
            "Instâncias existem para a qualidade do vinho igual a 5:\n",
            " 681\n"
          ],
          "name": "stdout"
        }
      ]
    },
    {
      "cell_type": "markdown",
      "metadata": {
        "id": "Z06oRo9zDIlG",
        "colab_type": "text"
      },
      "source": [
        "Resposta: 681"
      ]
    },
    {
      "cell_type": "markdown",
      "metadata": {
        "id": "e-0fhy7eE6bf",
        "colab_type": "text"
      },
      "source": [
        "# 9) Aplique a normalização MinMaxScaler \"default\" para os dados. Qual é o menor valor para \"fixed acidity\"?"
      ]
    },
    {
      "cell_type": "code",
      "metadata": {
        "id": "1d7Hb1wRHUGi",
        "colab_type": "code",
        "colab": {}
      },
      "source": [
        "# Instanciando a função MinMaxScaler\n",
        "scaler = MinMaxScaler()"
      ],
      "execution_count": 0,
      "outputs": []
    },
    {
      "cell_type": "code",
      "metadata": {
        "id": "nyqOc241HdmN",
        "colab_type": "code",
        "colab": {}
      },
      "source": [
        "X = df_wine.drop(['quality'], axis=1)\n",
        "Y = df_wine['quality']"
      ],
      "execution_count": 0,
      "outputs": []
    },
    {
      "cell_type": "code",
      "metadata": {
        "id": "R0Wu0k5cIpH9",
        "colab_type": "code",
        "colab": {}
      },
      "source": [
        "# Aplicando a função MinMaxScaler no conjunto de dados\n",
        "X = scaler.fit_transform(X)"
      ],
      "execution_count": 0,
      "outputs": []
    },
    {
      "cell_type": "code",
      "metadata": {
        "id": "7i1Xsk5RItIL",
        "colab_type": "code",
        "outputId": "7aa36622-3b4b-4260-ba7c-cba12ba1abea",
        "colab": {
          "base_uri": "https://localhost:8080/",
          "height": 35
        }
      },
      "source": [
        "pd.DataFrame(X, columns=df_wine.columns[:-1])['fixed acidity'].min()"
      ],
      "execution_count": 36,
      "outputs": [
        {
          "output_type": "execute_result",
          "data": {
            "text/plain": [
              "0.0"
            ]
          },
          "metadata": {
            "tags": []
          },
          "execution_count": 36
        }
      ]
    },
    {
      "cell_type": "markdown",
      "metadata": {
        "id": "3c12sSz_E8AB",
        "colab_type": "text"
      },
      "source": [
        "Resposta: 0"
      ]
    },
    {
      "cell_type": "markdown",
      "metadata": {
        "id": "7f-fy9QzLO_5",
        "colab_type": "text"
      },
      "source": [
        "# Treinamento do Modelo"
      ]
    },
    {
      "cell_type": "code",
      "metadata": {
        "id": "vXgonJrmI-Kz",
        "colab_type": "code",
        "colab": {}
      },
      "source": [
        "# Gerando dados para treino e teste\n",
        "trainX, testX, trainY, testY = train_test_split(X, Y, random_state=1, train_size = 0.7)"
      ],
      "execution_count": 0,
      "outputs": []
    },
    {
      "cell_type": "code",
      "metadata": {
        "id": "Coa2xMdOJBVI",
        "colab_type": "code",
        "outputId": "b08a35c7-ac6a-409d-989b-b9b91f33b000",
        "colab": {
          "base_uri": "https://localhost:8080/",
          "height": 35
        }
      },
      "source": [
        "print(trainX.shape, trainY.shape, testX.shape, testY.shape)"
      ],
      "execution_count": 39,
      "outputs": [
        {
          "output_type": "stream",
          "text": [
            "(1119, 11) (1119,) (480, 11) (480,)\n"
          ],
          "name": "stdout"
        }
      ]
    },
    {
      "cell_type": "code",
      "metadata": {
        "id": "dGNgWl_-K_cb",
        "colab_type": "code",
        "colab": {}
      },
      "source": [
        "# Instanciando o algoritmo\n",
        "clf_KNN = KNeighborsClassifier(n_neighbors=5)"
      ],
      "execution_count": 0,
      "outputs": []
    },
    {
      "cell_type": "code",
      "metadata": {
        "id": "hECexWZFLBHj",
        "colab_type": "code",
        "outputId": "74eaf1b0-4c1a-4ac0-cb8a-59ca54f52a74",
        "colab": {
          "base_uri": "https://localhost:8080/",
          "height": 72
        }
      },
      "source": [
        "# Efetuando o treinamento do modelo\n",
        "clf_KNN.fit(trainX, trainY)"
      ],
      "execution_count": 41,
      "outputs": [
        {
          "output_type": "execute_result",
          "data": {
            "text/plain": [
              "KNeighborsClassifier(algorithm='auto', leaf_size=30, metric='minkowski',\n",
              "                     metric_params=None, n_jobs=None, n_neighbors=5, p=2,\n",
              "                     weights='uniform')"
            ]
          },
          "metadata": {
            "tags": []
          },
          "execution_count": 41
        }
      ]
    },
    {
      "cell_type": "markdown",
      "metadata": {
        "id": "H5kCWETPdoM9",
        "colab_type": "text"
      },
      "source": [
        "# 10) Após dividir o dataset utilizando o método train_test_split(entradas_normalizadas, saida, test_size=0.30, random_state=1). Qual foi a acurária para o KNN?"
      ]
    },
    {
      "cell_type": "code",
      "metadata": {
        "id": "cPM7nkuZMPBe",
        "colab_type": "code",
        "colab": {}
      },
      "source": [
        "knn_predict = clf_KNN.predict(testX)"
      ],
      "execution_count": 0,
      "outputs": []
    },
    {
      "cell_type": "code",
      "metadata": {
        "id": "O93L6jNxN6DA",
        "colab_type": "code",
        "outputId": "d4a8502b-d547-4635-cb9f-46757f6be8ce",
        "colab": {
          "base_uri": "https://localhost:8080/",
          "height": 35
        }
      },
      "source": [
        "accuracy_score(testY, knn_predict)"
      ],
      "execution_count": 43,
      "outputs": [
        {
          "output_type": "execute_result",
          "data": {
            "text/plain": [
              "0.5645833333333333"
            ]
          },
          "metadata": {
            "tags": []
          },
          "execution_count": 43
        }
      ]
    },
    {
      "cell_type": "code",
      "metadata": {
        "id": "yPBJVn5GMkmQ",
        "colab_type": "code",
        "outputId": "f86de341-6e59-4189-beb2-9e2bb8d24f50",
        "colab": {
          "base_uri": "https://localhost:8080/",
          "height": 35
        }
      },
      "source": [
        "print(\"A acurácia para o KNN foi de {:.2f}\".format(accuracy_score(testY, knn_predict)))"
      ],
      "execution_count": 44,
      "outputs": [
        {
          "output_type": "stream",
          "text": [
            "A acurácia para o KNN foi de 0.56\n"
          ],
          "name": "stdout"
        }
      ]
    },
    {
      "cell_type": "code",
      "metadata": {
        "id": "AT9FsDLwNCxU",
        "colab_type": "code",
        "outputId": "4f1728f1-ab54-4533-b25d-746d12972e14",
        "colab": {
          "base_uri": "https://localhost:8080/",
          "height": 145
        }
      },
      "source": [
        "print(\"Matriz de Confusão:\\n\",confusion_matrix(testY, knn_predict))"
      ],
      "execution_count": 45,
      "outputs": [
        {
          "output_type": "stream",
          "text": [
            "Matriz de Confusão:\n",
            " [[  1   0   1   0   0   0]\n",
            " [  0   1  14   5   1   0]\n",
            " [  0   0 148  54   5   0]\n",
            " [  0   1  71 102  21   0]\n",
            " [  0   1   9  23  19   0]\n",
            " [  0   0   0   1   2   0]]\n"
          ],
          "name": "stdout"
        }
      ]
    },
    {
      "cell_type": "markdown",
      "metadata": {
        "id": "SgYbjNkEM1O0",
        "colab_type": "text"
      },
      "source": [
        "# 11) Aplicando a árvore de decisão com parâmetros definidos no enunciado e divisão de treinamento e teste. Qual é o valor da acurácia?"
      ]
    },
    {
      "cell_type": "code",
      "metadata": {
        "id": "7fjTS63aM-NO",
        "colab_type": "code",
        "colab": {}
      },
      "source": [
        "# Instanciando o algoritmo\n",
        "clf_arvore = DecisionTreeClassifier()"
      ],
      "execution_count": 0,
      "outputs": []
    },
    {
      "cell_type": "code",
      "metadata": {
        "id": "xbr9kNYaNpKT",
        "colab_type": "code",
        "outputId": "6543898d-a2fc-4627-94b4-fb5400440804",
        "colab": {
          "base_uri": "https://localhost:8080/",
          "height": 126
        }
      },
      "source": [
        "# Efetuando o treinamento do modelo\n",
        "clf_arvore.fit(trainX, trainY)"
      ],
      "execution_count": 48,
      "outputs": [
        {
          "output_type": "execute_result",
          "data": {
            "text/plain": [
              "DecisionTreeClassifier(ccp_alpha=0.0, class_weight=None, criterion='gini',\n",
              "                       max_depth=None, max_features=None, max_leaf_nodes=None,\n",
              "                       min_impurity_decrease=0.0, min_impurity_split=None,\n",
              "                       min_samples_leaf=1, min_samples_split=2,\n",
              "                       min_weight_fraction_leaf=0.0, presort='deprecated',\n",
              "                       random_state=None, splitter='best')"
            ]
          },
          "metadata": {
            "tags": []
          },
          "execution_count": 48
        }
      ]
    },
    {
      "cell_type": "code",
      "metadata": {
        "id": "Oaa12pOjNxOW",
        "colab_type": "code",
        "outputId": "f2ee790f-bffe-4dce-bbb0-7c8d271fa8e5",
        "colab": {
          "base_uri": "https://localhost:8080/",
          "height": 35
        }
      },
      "source": [
        "clf_arvore.score(trainX, trainY)"
      ],
      "execution_count": 49,
      "outputs": [
        {
          "output_type": "execute_result",
          "data": {
            "text/plain": [
              "1.0"
            ]
          },
          "metadata": {
            "tags": []
          },
          "execution_count": 49
        }
      ]
    },
    {
      "cell_type": "code",
      "metadata": {
        "id": "ut38sek9OogA",
        "colab_type": "code",
        "outputId": "25f9e6ba-46e3-4161-d263-c401cc2eb75d",
        "colab": {
          "base_uri": "https://localhost:8080/",
          "height": 35
        }
      },
      "source": [
        "print(\"A acurácia para a Árvore de Decisão foi de {}\".format(clf_arvore.score(trainX, trainY)))"
      ],
      "execution_count": 50,
      "outputs": [
        {
          "output_type": "stream",
          "text": [
            "A acurácia para a Árvore de Decisão foi de 1.0\n"
          ],
          "name": "stdout"
        }
      ]
    },
    {
      "cell_type": "markdown",
      "metadata": {
        "id": "9LS6XeT8N0jF",
        "colab_type": "text"
      },
      "source": [
        "# 12) Aplicando a floresta randomica. qual é o valor da acurácia?"
      ]
    },
    {
      "cell_type": "code",
      "metadata": {
        "id": "ccUX-ICiO_M0",
        "colab_type": "code",
        "colab": {}
      },
      "source": [
        "# Instanciando o algoritmo\n",
        "clf_floresta = RandomForestClassifier(max_depth=10, random_state=1)"
      ],
      "execution_count": 0,
      "outputs": []
    },
    {
      "cell_type": "code",
      "metadata": {
        "id": "0r1ktI4VPGvg",
        "colab_type": "code",
        "outputId": "612f3359-95d6-41b6-923d-165a1ad8cad3",
        "colab": {
          "base_uri": "https://localhost:8080/",
          "height": 163
        }
      },
      "source": [
        "# Efetuando o treinamento do modelo\n",
        "clf_floresta.fit(trainX, trainY)"
      ],
      "execution_count": 53,
      "outputs": [
        {
          "output_type": "execute_result",
          "data": {
            "text/plain": [
              "RandomForestClassifier(bootstrap=True, ccp_alpha=0.0, class_weight=None,\n",
              "                       criterion='gini', max_depth=10, max_features='auto',\n",
              "                       max_leaf_nodes=None, max_samples=None,\n",
              "                       min_impurity_decrease=0.0, min_impurity_split=None,\n",
              "                       min_samples_leaf=1, min_samples_split=2,\n",
              "                       min_weight_fraction_leaf=0.0, n_estimators=100,\n",
              "                       n_jobs=None, oob_score=False, random_state=1, verbose=0,\n",
              "                       warm_start=False)"
            ]
          },
          "metadata": {
            "tags": []
          },
          "execution_count": 53
        }
      ]
    },
    {
      "cell_type": "code",
      "metadata": {
        "id": "6LT6pNyDPOKj",
        "colab_type": "code",
        "colab": {}
      },
      "source": [
        "forest_predicted = clf_floresta.predict(testX)"
      ],
      "execution_count": 0,
      "outputs": []
    },
    {
      "cell_type": "code",
      "metadata": {
        "id": "mS27toKyX1-3",
        "colab_type": "code",
        "colab": {
          "base_uri": "https://localhost:8080/",
          "height": 35
        },
        "outputId": "33575398-3fc0-4014-8b1b-ecfa570b6c1f"
      },
      "source": [
        "accuracy_score(testY, forest_predicted)"
      ],
      "execution_count": 56,
      "outputs": [
        {
          "output_type": "execute_result",
          "data": {
            "text/plain": [
              "0.6791666666666667"
            ]
          },
          "metadata": {
            "tags": []
          },
          "execution_count": 56
        }
      ]
    },
    {
      "cell_type": "code",
      "metadata": {
        "id": "6aJgVCQIQLOH",
        "colab_type": "code",
        "outputId": "95ed5a04-2481-4758-df53-13892bedaebd",
        "colab": {
          "base_uri": "https://localhost:8080/",
          "height": 35
        }
      },
      "source": [
        "print(\"A acurácia da Floresta Randômica é de {:.2f}\".format(accuracy_score(testY, forest_predicted)))"
      ],
      "execution_count": 60,
      "outputs": [
        {
          "output_type": "stream",
          "text": [
            "A acurácia da Floresta Randômica é de 0.68\n"
          ],
          "name": "stdout"
        }
      ]
    },
    {
      "cell_type": "markdown",
      "metadata": {
        "id": "-QJXJ6WZQUSi",
        "colab_type": "text"
      },
      "source": [
        "# 13) Aplicando o SVM, qual é o valor de acurácia obtido?"
      ]
    },
    {
      "cell_type": "code",
      "metadata": {
        "id": "5r68D-6bQaaX",
        "colab_type": "code",
        "colab": {}
      },
      "source": [
        "# Instanciando o algoritmo\n",
        "clf_svm=SVC(gamma='auto', kernel='rbf')"
      ],
      "execution_count": 0,
      "outputs": []
    },
    {
      "cell_type": "code",
      "metadata": {
        "id": "MeHOI4YvQgAr",
        "colab_type": "code",
        "outputId": "9fe76262-5a20-4bb2-e6c4-f146c19a2f36",
        "colab": {
          "base_uri": "https://localhost:8080/",
          "height": 90
        }
      },
      "source": [
        "# Efetuando o treinamento do modelo\n",
        "clf_svm.fit(trainX, trainY)"
      ],
      "execution_count": 62,
      "outputs": [
        {
          "output_type": "execute_result",
          "data": {
            "text/plain": [
              "SVC(C=1.0, break_ties=False, cache_size=200, class_weight=None, coef0=0.0,\n",
              "    decision_function_shape='ovr', degree=3, gamma='auto', kernel='rbf',\n",
              "    max_iter=-1, probability=False, random_state=None, shrinking=True,\n",
              "    tol=0.001, verbose=False)"
            ]
          },
          "metadata": {
            "tags": []
          },
          "execution_count": 62
        }
      ]
    },
    {
      "cell_type": "code",
      "metadata": {
        "id": "64_Tdh4uQjyk",
        "colab_type": "code",
        "colab": {}
      },
      "source": [
        "# Efetuando as previsões\n",
        "prev_svm = clf_svm.predict(testX)"
      ],
      "execution_count": 0,
      "outputs": []
    },
    {
      "cell_type": "code",
      "metadata": {
        "id": "3-AzHCfWWwY4",
        "colab_type": "code",
        "outputId": "2b0edf5f-3a11-44a9-d00f-3cf33c9c6584",
        "colab": {
          "base_uri": "https://localhost:8080/",
          "height": 35
        }
      },
      "source": [
        "clf_svm.score(trainX, trainY)"
      ],
      "execution_count": 64,
      "outputs": [
        {
          "output_type": "execute_result",
          "data": {
            "text/plain": [
              "0.5567470956210903"
            ]
          },
          "metadata": {
            "tags": []
          },
          "execution_count": 64
        }
      ]
    },
    {
      "cell_type": "code",
      "metadata": {
        "id": "DC3zY3hTQpqr",
        "colab_type": "code",
        "outputId": "e9b2596d-ee18-4fbc-e244-21a5c08f8674",
        "colab": {
          "base_uri": "https://localhost:8080/",
          "height": 35
        }
      },
      "source": [
        "print(\"A acurácia com o SVM é de {:.2f}\".format(clf_svm.score(trainX, trainY)))"
      ],
      "execution_count": 66,
      "outputs": [
        {
          "output_type": "stream",
          "text": [
            "A acurácia com o SVM é de 0.56\n"
          ],
          "name": "stdout"
        }
      ]
    },
    {
      "cell_type": "markdown",
      "metadata": {
        "id": "Y5inwGz0Q4D8",
        "colab_type": "text"
      },
      "source": [
        "# 14) Aplicando a MLP, qual é a acurácia do modelo?"
      ]
    },
    {
      "cell_type": "code",
      "metadata": {
        "id": "rTG1u5ifRAdo",
        "colab_type": "code",
        "colab": {}
      },
      "source": [
        "# Instanciando o algoritmo\n",
        "clf_mlp = MLPClassifier(alpha=1e-5, hidden_layer_sizes=(5, 5), random_state=1)"
      ],
      "execution_count": 0,
      "outputs": []
    },
    {
      "cell_type": "code",
      "metadata": {
        "id": "W1-qQZUhRElB",
        "colab_type": "code",
        "outputId": "5f0dbf89-4705-41df-8704-acc81b7d1540",
        "colab": {
          "base_uri": "https://localhost:8080/",
          "height": 219
        }
      },
      "source": [
        "# Efetuando o treinamento do modelo\n",
        "clf_mlp.fit(trainX, trainY)"
      ],
      "execution_count": 68,
      "outputs": [
        {
          "output_type": "stream",
          "text": [
            "/usr/local/lib/python3.6/dist-packages/sklearn/neural_network/_multilayer_perceptron.py:571: ConvergenceWarning: Stochastic Optimizer: Maximum iterations (200) reached and the optimization hasn't converged yet.\n",
            "  % self.max_iter, ConvergenceWarning)\n"
          ],
          "name": "stderr"
        },
        {
          "output_type": "execute_result",
          "data": {
            "text/plain": [
              "MLPClassifier(activation='relu', alpha=1e-05, batch_size='auto', beta_1=0.9,\n",
              "              beta_2=0.999, early_stopping=False, epsilon=1e-08,\n",
              "              hidden_layer_sizes=(5, 5), learning_rate='constant',\n",
              "              learning_rate_init=0.001, max_fun=15000, max_iter=200,\n",
              "              momentum=0.9, n_iter_no_change=10, nesterovs_momentum=True,\n",
              "              power_t=0.5, random_state=1, shuffle=True, solver='adam',\n",
              "              tol=0.0001, validation_fraction=0.1, verbose=False,\n",
              "              warm_start=False)"
            ]
          },
          "metadata": {
            "tags": []
          },
          "execution_count": 68
        }
      ]
    },
    {
      "cell_type": "code",
      "metadata": {
        "id": "eBRsYdQ8RbzI",
        "colab_type": "code",
        "outputId": "ba4974e3-6a50-499b-9dae-3b842ecc296c",
        "colab": {
          "base_uri": "https://localhost:8080/",
          "height": 35
        }
      },
      "source": [
        "clf_mlp.score(trainX, trainY)"
      ],
      "execution_count": 69,
      "outputs": [
        {
          "output_type": "execute_result",
          "data": {
            "text/plain": [
              "0.5746201966041108"
            ]
          },
          "metadata": {
            "tags": []
          },
          "execution_count": 69
        }
      ]
    },
    {
      "cell_type": "code",
      "metadata": {
        "id": "JcxP9PC5RMMX",
        "colab_type": "code",
        "outputId": "84156668-d3a5-4b36-fd88-d5232c8866f2",
        "colab": {
          "base_uri": "https://localhost:8080/",
          "height": 35
        }
      },
      "source": [
        "print(\"A acurácia para o MLP é de {:.2f}\".format(clf_mlp.score(trainX, trainY)))"
      ],
      "execution_count": 70,
      "outputs": [
        {
          "output_type": "stream",
          "text": [
            "A acurácia para o MLP é de 0.57\n"
          ],
          "name": "stdout"
        }
      ]
    },
    {
      "cell_type": "markdown",
      "metadata": {
        "id": "mLvsUD2WRsyj",
        "colab_type": "text"
      },
      "source": [
        "# 15) Modifique o dataset para um sistema binário que considere vinhos com nota maior do que 5 (6, 7, 8) sejam bons e menores ou igual a 5 ruins (5, 4, 3). Aplique o modelo da floresta randômica. Qual a acurácia do modelo para esse novo dataset?"
      ]
    },
    {
      "cell_type": "code",
      "metadata": {
        "id": "0Ddun9S6Vuyc",
        "colab_type": "code",
        "colab": {}
      },
      "source": [
        "trainY = trainY > 5\n",
        "trainY = trainY.astype(int)"
      ],
      "execution_count": 0,
      "outputs": []
    },
    {
      "cell_type": "code",
      "metadata": {
        "id": "CdjLXBjsVyy8",
        "colab_type": "code",
        "colab": {}
      },
      "source": [
        "testY = testY > 5\n",
        "testY = testY.astype(int)"
      ],
      "execution_count": 0,
      "outputs": []
    },
    {
      "cell_type": "code",
      "metadata": {
        "id": "FaJN1ld5V4OE",
        "colab_type": "code",
        "colab": {}
      },
      "source": [
        "# Instanciando o algoritmo\n",
        "clf_floresta = RandomForestClassifier(max_depth=10, random_state=1)"
      ],
      "execution_count": 0,
      "outputs": []
    },
    {
      "cell_type": "code",
      "metadata": {
        "id": "4FNEkXoSV9Aa",
        "colab_type": "code",
        "outputId": "aec450b1-c81a-4534-96b4-915ae2070fc9",
        "colab": {
          "base_uri": "https://localhost:8080/",
          "height": 163
        }
      },
      "source": [
        "# Efetuando o treinamento do modelo\n",
        "clf_floresta.fit(trainX, trainY)"
      ],
      "execution_count": 74,
      "outputs": [
        {
          "output_type": "execute_result",
          "data": {
            "text/plain": [
              "RandomForestClassifier(bootstrap=True, ccp_alpha=0.0, class_weight=None,\n",
              "                       criterion='gini', max_depth=10, max_features='auto',\n",
              "                       max_leaf_nodes=None, max_samples=None,\n",
              "                       min_impurity_decrease=0.0, min_impurity_split=None,\n",
              "                       min_samples_leaf=1, min_samples_split=2,\n",
              "                       min_weight_fraction_leaf=0.0, n_estimators=100,\n",
              "                       n_jobs=None, oob_score=False, random_state=1, verbose=0,\n",
              "                       warm_start=False)"
            ]
          },
          "metadata": {
            "tags": []
          },
          "execution_count": 74
        }
      ]
    },
    {
      "cell_type": "code",
      "metadata": {
        "id": "pyZ2hfeyYcWU",
        "colab_type": "code",
        "colab": {
          "base_uri": "https://localhost:8080/",
          "height": 35
        },
        "outputId": "ad1f8bf2-0c35-44e2-b630-40b84be3471f"
      },
      "source": [
        "clf_floresta.score(testX, testY)"
      ],
      "execution_count": 77,
      "outputs": [
        {
          "output_type": "execute_result",
          "data": {
            "text/plain": [
              "0.8041666666666667"
            ]
          },
          "metadata": {
            "tags": []
          },
          "execution_count": 77
        }
      ]
    },
    {
      "cell_type": "code",
      "metadata": {
        "id": "qgYRW6z8SDXL",
        "colab_type": "code",
        "outputId": "18ea6083-b1b0-491a-93ae-2315e68c13be",
        "colab": {
          "base_uri": "https://localhost:8080/",
          "height": 35
        }
      },
      "source": [
        "print(\"Acurácia para a Floresta Randômica é de: {}\".format(clf_floresta.score(testX, testY)))"
      ],
      "execution_count": 79,
      "outputs": [
        {
          "output_type": "stream",
          "text": [
            "Acurácia para a Floresta Randômica é de: 0.8041666666666667\n"
          ],
          "name": "stdout"
        }
      ]
    }
  ]
}